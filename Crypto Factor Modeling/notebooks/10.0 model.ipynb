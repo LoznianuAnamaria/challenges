{
 "cells": [
  {
   "cell_type": "code",
   "execution_count": 1,
   "metadata": {},
   "outputs": [
    {
     "name": "stdout",
     "output_type": "stream",
     "text": [
      "TRAIN_START_DATE updated to: 2020-06-01, TRAIN_END_DATE updated to: 2024-07-05\n"
     ]
    }
   ],
   "source": [
    "import lightgbm as lgb\n",
    "import pandas as pd\n",
    "from sklearn.model_selection import train_test_split\n",
    "from sklearn.metrics import mean_squared_error, r2_score, mean_absolute_error\n",
    "from typing import List\n",
    "import numpy as np\n",
    "\n",
    "from utils import (\n",
    "    TRAIN_TARGETS_PARQUET_FILE_PATH,\n",
    "    FEATURES_DATA_FILE_PATH\n",
    ")"
   ]
  },
  {
   "cell_type": "code",
   "execution_count": 2,
   "metadata": {},
   "outputs": [],
   "source": [
    "\n",
    "# Get the historical targets file\n",
    "train_df = pd.read_parquet(TRAIN_TARGETS_PARQUET_FILE_PATH)\n",
    "train_df['date'] = pd.to_datetime(train_df['date'])\n",
    "\n",
    "# Load your full dataset with features\n",
    "full_features_df = pd.read_parquet(FEATURES_DATA_FILE_PATH)\n",
    "full_features_df['date'] = pd.to_datetime(full_features_df['date'])\n",
    "\n",
    "# Merge the datasets on common keys (e.g., 'symbol' and 'date')\n",
    "train_df = pd.merge(train_df, full_features_df, on=['symbol', 'date'], how='inner')\n",
    "\n"
   ]
  },
  {
   "cell_type": "markdown",
   "metadata": {},
   "source": [
    "# Model 1"
   ]
  },
  {
   "cell_type": "code",
   "execution_count": 3,
   "metadata": {},
   "outputs": [],
   "source": [
    "valid_targets = np.array([0, 0.25, 0.5, 0.75, 1])\n",
    "\n",
    "\n",
    "# Function to round predictions to the nearest valid target\n",
    "def round_to_nearest_valid_target(y_pred, valid_targets):\n",
    "    return np.array([min(valid_targets, key=lambda x: abs(x - pred)) for pred in y_pred])\n"
   ]
  },
  {
   "cell_type": "code",
   "execution_count": 4,
   "metadata": {},
   "outputs": [],
   "source": [
    "def generate_identifiers_training_features() -> List[str]:\n",
    "    return ['symbol_encoded', 'timestamp']\n",
    "\n",
    "def generate_market_data_training_features() -> List[str]:\n",
    "    return [\n",
    "        'size_factor', \n",
    "        'liquidity_factor',\n",
    "        #   'close'\n",
    "          ]\n",
    "\n",
    "def generate_market_data_7_training_features() -> List[str]:\n",
    "    return ['ma_7', 'lag_7', 'momentum_7', 'pct_chg_7', 'ema_7', 'close_lag_7']\n",
    "\n",
    "def generate_market_data_14_training_features() -> List[str]:\n",
    "    return ['ma_14', 'lag_14', 'momentum_14', 'pct_chg_14', 'ema_14', 'close_lag_14']\n",
    "\n",
    "def generate_market_data_30_training_features() -> List[str]:\n",
    "    return ['ma_30', 'lag_30', 'momentum_30', 'pct_chg_30', 'ema_30', 'close_lag_30']\n",
    "\n",
    "def generate_sentiment_data_training_features() -> List[str]:\n",
    "    return ['is_active', 'is_open_source']\n",
    "\n",
    "def generate_fear_greed_data_training_features() -> List[str]:\n",
    "    return [\n",
    "        # 'fear_greed_bucket', \n",
    "            'f_g_bucket_interact_ma_1', \n",
    "            'f_g_bucket_interact_ema_1', \n",
    "            'f_g_bucket_interact_close_lag_7'\n",
    "            ]\n",
    "\n",
    "\n",
    "def generate_macro_indicators_training_features() -> List[str]:\n",
    "    return [ 'weighted_global_gdp',  'overall_interest_rate', 'interest_rate_trend', 'overall_inflation_rate', 'inflation_rate_trend']\n"
   ]
  },
  {
   "cell_type": "code",
   "execution_count": 5,
   "metadata": {},
   "outputs": [],
   "source": [
    "# Model A features: \n",
    "model_a_features = (\n",
    "    generate_identifiers_training_features() +\n",
    "    generate_market_data_training_features() \n",
    "    # generate_sentiment_data_training_features()\n",
    ")\n",
    "\n",
    "# Model B features: \n",
    "model_b_features = (\n",
    "    model_a_features + \n",
    "    generate_market_data_7_training_features() +\n",
    "    generate_market_data_14_training_features() +\n",
    "    generate_market_data_30_training_features()\n",
    ")\n",
    "\n",
    "# Model C features: \n",
    "model_c_features = (\n",
    "    model_b_features + generate_sentiment_data_training_features()\n",
    ")\n",
    "\n",
    "# Model d features: \n",
    "model_d_features = (\n",
    "    model_c_features + generate_macro_indicators_training_features()\n",
    ")"
   ]
  },
  {
   "cell_type": "code",
   "execution_count": 6,
   "metadata": {},
   "outputs": [],
   "source": [
    "models = {'A': model_a_features, 'B': model_b_features, 'C': model_c_features, 'D': model_d_features}\n",
    "\n",
    "for key in models: \n",
    "    features = models[key]\n",
    "\n",
    "    X_train, X_valid, y_train, y_valid = train_test_split(train_df[features], train_df[\"close\"], test_size=0.2, random_state=42)\n",
    "\n",
    "    model = lgb.LGBMRegressor(\n",
    "        n_estimators=10000,\n",
    "        learning_rate=0.01,\n",
    "        max_depth=20,\n",
    "        num_leaves=40,\n",
    "        colsample_bytree=0.5,\n",
    "        verbose=-1 \n",
    "    )\n",
    "\n",
    "    model.fit(\n",
    "        X_train, y_train,\n",
    "        eval_set=[(X_valid, y_valid)],\n",
    "        eval_metric='l2'\n",
    "    )\n",
    "\n",
    "    # Make predictions and evaluate the model\n",
    "    y_pred = model.predict(X_valid)\n",
    "    y_pred_rounded = round_to_nearest_valid_target(y_pred, valid_targets)\n",
    "\n",
    "    # Calculate error metrics for the model\n",
    "    mse = mean_squared_error(y_valid, y_pred_rounded)\n",
    "    r2 = r2_score(y_valid, y_pred_rounded)\n",
    "    mae = mean_absolute_error(y_valid, y_pred_rounded)\n",
    "    nmse = mse / np.var(y_valid)  # Normalized Mean Squared Error\n",
    "\n",
    "    print(f\"Model {key} Performance Metrics:\")\n",
    "    print(\"-------------------=========================-----------------\")\n",
    "    print(f\"Mean Squared Error (MSE): {mse}\")\n",
    "    print(f\"R-squared (R2): {r2}\")\n",
    "    print(f\"Mean Absolute Error (MAE): {mae}\")\n",
    "    print(f\"Normalized MSE (NMSE): {nmse}\")\n",
    "    print(\"-------------------=========================-----------------\")\n",
    "\n",
    "    # Print actual, predicted, and rounded predicted values\n",
    "    print(f\"Actual vs Predicted vs Rounded for Model {key}:\")\n",
    "    comparison_df = pd.DataFrame({\n",
    "        'Actual': y_valid,            \n",
    "        'Predicted': y_pred,          \n",
    "        'Predicted_Rounded': y_pred_rounded  \n",
    "    })\n",
    "    print(comparison_df.head(30))  # Print the first 30 rows for comparison\n",
    "    print(\"-------------------=========================-----------------\")\n"
   ]
  }
 ],
 "metadata": {
  "kernelspec": {
   "display_name": "Python 3",
   "language": "python",
   "name": "python3"
  },
  "language_info": {
   "codemirror_mode": {
    "name": "ipython",
    "version": 3
   },
   "file_extension": ".py",
   "mimetype": "text/x-python",
   "name": "python",
   "nbconvert_exporter": "python",
   "pygments_lexer": "ipython3",
   "version": "3.11.5"
  }
 },
 "nbformat": 4,
 "nbformat_minor": 2
}
