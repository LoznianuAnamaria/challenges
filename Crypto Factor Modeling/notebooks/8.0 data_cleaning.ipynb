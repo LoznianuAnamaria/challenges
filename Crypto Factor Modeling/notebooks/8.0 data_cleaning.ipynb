{
 "cells": [
  {
   "cell_type": "code",
   "execution_count": 1,
   "metadata": {},
   "outputs": [
    {
     "name": "stdout",
     "output_type": "stream",
     "text": [
      "TRAIN_START_DATE updated to: 2020-06-01, TRAIN_END_DATE updated to: 2024-07-05\n"
     ]
    }
   ],
   "source": [
    "import pandas as pd\n",
    "import numpy as np\n",
    "\n",
    "from utils import (\n",
    "    COMPLETE_DATA_FILE_PATH,\n",
    "    CLEAN_COMPLETE_DATA_FILE_PATH)"
   ]
  },
  {
   "cell_type": "markdown",
   "metadata": {},
   "source": [
    "# Data Overview"
   ]
  },
  {
   "cell_type": "code",
   "execution_count": 2,
   "metadata": {},
   "outputs": [
    {
     "name": "stdout",
     "output_type": "stream",
     "text": [
      "<class 'pandas.core.frame.DataFrame'>\n",
      "DatetimeIndex: 1654463 entries, 2020-06-01 to 2024-08-12\n",
      "Data columns (total 80 columns):\n",
      " #   Column                             Non-Null Count    Dtype         \n",
      "---  ------                             --------------    -----         \n",
      " 0   symbol                             1654463 non-null  object        \n",
      " 1   open                               1654463 non-null  float64       \n",
      " 2   high                               1654463 non-null  float64       \n",
      " 3   low                                1654463 non-null  float64       \n",
      " 4   close                              1654463 non-null  float64       \n",
      " 5   volume                             1654463 non-null  int64         \n",
      " 6   name                               1654463 non-null  object        \n",
      " 7   keywords                           1648813 non-null  object        \n",
      " 8   total_supply                       1654463 non-null  float64       \n",
      " 9   circulating_supply                 1654463 non-null  float64       \n",
      " 10  market_cap                         1654463 non-null  float64       \n",
      " 11  infinite_supply                    1654463 non-null  int64         \n",
      " 12  is_open_source                     1654463 non-null  int64         \n",
      " 13  source_code                        1077388 non-null  object        \n",
      " 14  is_active                          1654463 non-null  int64         \n",
      " 15  fear_greed_value                   1653270 non-null  float64       \n",
      " 16  fear_greed_classification          1653270 non-null  object        \n",
      " 17  week_start                         1654463 non-null  datetime64[ns]\n",
      " 18  week_end                           1654463 non-null  object        \n",
      " 19  google_trend_score                 1637140 non-null  float64       \n",
      " 20  gdp_Australia                      1604018 non-null  float64       \n",
      " 21  gdp_Brazil                         1604018 non-null  float64       \n",
      " 22  gdp_Canada                         1604018 non-null  float64       \n",
      " 23  gdp_China                          1604018 non-null  float64       \n",
      " 24  gdp_France                         1604018 non-null  float64       \n",
      " 25  gdp_Germany                        1604018 non-null  float64       \n",
      " 26  gdp_India                          1604018 non-null  float64       \n",
      " 27  gdp_Italy                          1604018 non-null  float64       \n",
      " 28  gdp_Japan                          1604018 non-null  float64       \n",
      " 29  gdp_Korea Rep                      1604018 non-null  float64       \n",
      " 30  gdp_Mexico                         1604018 non-null  float64       \n",
      " 31  gdp_Russian Federation             1604018 non-null  float64       \n",
      " 32  gdp_Saudi Arabia                   1604018 non-null  float64       \n",
      " 33  gdp_United Kingdom                 1604018 non-null  float64       \n",
      " 34  gdp_United States                  1604018 non-null  float64       \n",
      " 35  inflation_rate_Australia           1604018 non-null  float64       \n",
      " 36  inflation_rate_Brazil              1604018 non-null  float64       \n",
      " 37  inflation_rate_Canada              1604018 non-null  float64       \n",
      " 38  inflation_rate_China               1604018 non-null  float64       \n",
      " 39  inflation_rate_France              1604018 non-null  float64       \n",
      " 40  inflation_rate_Germany             1604018 non-null  float64       \n",
      " 41  inflation_rate_India               1604018 non-null  float64       \n",
      " 42  inflation_rate_Italy               1604018 non-null  float64       \n",
      " 43  inflation_rate_Japan               1604018 non-null  float64       \n",
      " 44  inflation_rate_Korea Rep           1604018 non-null  float64       \n",
      " 45  inflation_rate_Mexico              1604018 non-null  float64       \n",
      " 46  inflation_rate_Russian Federation  1604018 non-null  float64       \n",
      " 47  inflation_rate_Saudi Arabia        1604018 non-null  float64       \n",
      " 48  inflation_rate_United Kingdom      1604018 non-null  float64       \n",
      " 49  inflation_rate_United States       1604018 non-null  float64       \n",
      " 50  interest_rate_United States        1566318 non-null  float64       \n",
      " 51  interest_rate_United Kingdom       1566318 non-null  float64       \n",
      " 52  interest_rate_China                1528223 non-null  float64       \n",
      " 53  interest_rate_Germany              1566318 non-null  float64       \n",
      " 54  interest_rate_Japan                1528223 non-null  float64       \n",
      " 55  interest_rate_India                516569 non-null   float64       \n",
      " 56  interest_rate_Italy                1566318 non-null  float64       \n",
      " 57  interest_rate_Australia            1566318 non-null  float64       \n",
      " 58  interest_rate_Canada               1566318 non-null  float64       \n",
      " 59  interest_rate_France               1566318 non-null  float64       \n",
      " 60  interest_rate_Brazil               1340140 non-null  float64       \n",
      " 61  interest_rate_Russia               522949 non-null   float64       \n",
      " 62  interest_rate_South Korea          1566318 non-null  float64       \n",
      " 63  interest_rate_Mexico               1566318 non-null  float64       \n",
      " 64  cpi_United States                  1566318 non-null  float64       \n",
      " 65  cpi_United Kingdom                 1528223 non-null  float64       \n",
      " 66  cpi_China                          1566318 non-null  float64       \n",
      " 67  cpi_Germany                        1566318 non-null  float64       \n",
      " 68  cpi_India                          1528223 non-null  float64       \n",
      " 69  cpi_Italy                          1528223 non-null  float64       \n",
      " 70  cpi_Brazil                         1566318 non-null  float64       \n",
      " 71  cpi_Russia                         556397 non-null   float64       \n",
      " 72  cpi_South Korea                    1303096 non-null  float64       \n",
      " 73  cpi_Mexico                         1566318 non-null  float64       \n",
      " 74  cpi_Japan                          260727 non-null   float64       \n",
      " 75  cpi_Saudi Arabia                   1528223 non-null  float64       \n",
      " 76  cpi_Australia                      1566318 non-null  float64       \n",
      " 77  cpi_Canada                         1303096 non-null  float64       \n",
      " 78  cpi_France                         1566318 non-null  float64       \n",
      " 79  year                               1654463 non-null  int32         \n",
      "dtypes: datetime64[ns](1), float64(68), int32(1), int64(4), object(6)\n",
      "memory usage: 1016.1+ MB\n",
      "None\n",
      "Missing values\n"
     ]
    },
    {
     "data": {
      "text/plain": [
       "cpi_Japan               1393736\n",
       "interest_rate_India     1137894\n",
       "interest_rate_Russia    1131514\n",
       "cpi_Russia              1098066\n",
       "source_code              577075\n",
       "dtype: int64"
      ]
     },
     "execution_count": 2,
     "metadata": {},
     "output_type": "execute_result"
    }
   ],
   "source": [
    "data = pd.read_parquet(COMPLETE_DATA_FILE_PATH)\n",
    "\n",
    "data['date'] = pd.to_datetime(data['date'])\n",
    "data['year'] = data['date'].dt.year\n",
    "\n",
    "data.set_index('date', inplace=True)\n",
    "\n",
    "# Get a high-level overview\n",
    "print(data.info())\n",
    "# print(data.describe())\n",
    "\n",
    "# Check for missing values and sort them in descending order\n",
    "missing_values = data.isnull().sum()\n",
    "missing_values = missing_values[missing_values > 0].sort_values(ascending=False)\n",
    "\n",
    "# Print the missing values in descending order\n",
    "print(f'Missing values')\n",
    "missing_values.head()"
   ]
  },
  {
   "cell_type": "markdown",
   "metadata": {},
   "source": [
    "# Missing values"
   ]
  },
  {
   "cell_type": "code",
   "execution_count": 3,
   "metadata": {},
   "outputs": [
    {
     "name": "stdout",
     "output_type": "stream",
     "text": [
      "Columns with more than 50% missing data: Index(['interest_rate_India', 'interest_rate_Russia', 'cpi_Russia',\n",
      "       'cpi_Japan'],\n",
      "      dtype='object')\n",
      "Removing high value missing columns\n",
      "After cleaning: 1654463 rows and 76 columns.\n"
     ]
    }
   ],
   "source": [
    "threshold = 50\n",
    "\n",
    "# Calculate the percentage of missing values for each column\n",
    "missing_percentages = data.isnull().mean() * 100\n",
    "\n",
    "# Identify columns with more than 70% missing values\n",
    "columns_with_high_missing = missing_percentages[missing_percentages > threshold].index\n",
    "\n",
    "# Create a list of columns to keep\n",
    "columns_to_keep = [col for col in data.columns if col not in columns_with_high_missing]\n",
    "\n",
    "print(f\"Columns with more than {threshold}% missing data: {columns_with_high_missing}\")\n",
    "print(f\"Removing high value missing columns\")\n",
    "\n",
    "# Drop the columns with too many missing values\n",
    "data = data.drop(columns=columns_with_high_missing)\n",
    "\n",
    "print(f'After cleaning: {data.shape[0]} rows and {len(data.columns)} columns.')\n"
   ]
  },
  {
   "cell_type": "code",
   "execution_count": 4,
   "metadata": {},
   "outputs": [
    {
     "name": "stdout",
     "output_type": "stream",
     "text": [
      "Missing values\n"
     ]
    },
    {
     "data": {
      "text/plain": [
       "source_code             577075\n",
       "cpi_Canada              351367\n",
       "cpi_South Korea         351367\n",
       "interest_rate_Brazil    314323\n",
       "cpi_India               126240\n",
       "dtype: int64"
      ]
     },
     "execution_count": 4,
     "metadata": {},
     "output_type": "execute_result"
    }
   ],
   "source": [
    "# Check for missing values and sort them in descending order\n",
    "missing_values = data.isnull().sum()\n",
    "missing_values = missing_values[missing_values > 0].sort_values(ascending=False)\n",
    "\n",
    "# Print the missing values in descending order\n",
    "print(f'Missing values')\n",
    "missing_values.head()"
   ]
  },
  {
   "cell_type": "markdown",
   "metadata": {},
   "source": [
    "# Handling Remaining Missing Values"
   ]
  },
  {
   "cell_type": "code",
   "execution_count": 5,
   "metadata": {},
   "outputs": [],
   "source": [
    "# Fill missing values in the 'source_code' column with ''\n",
    "data['source_code'] = data['source_code'].fillna('')\n",
    "\n",
    "# Fill missing values in the 'keywords' column with ''\n",
    "data['keywords'] = data['keywords'].fillna('')\n",
    "\n",
    "# Fill missing values in the google trend column with 0\n",
    "data['google_trend_score'] = data['google_trend_score'].fillna(0)\n",
    "\n",
    "economic_columns = [col for col in data.columns if col.startswith(('interest_rate', 'inflation_rate', 'gdp', 'cpi'))]\n",
    "\n",
    "# Interpolate the missing values for GDP, CPI, inflation rates and interest rates\n",
    "data[economic_columns] = data[economic_columns].interpolate(method='time')\n"
   ]
  },
  {
   "cell_type": "code",
   "execution_count": 6,
   "metadata": {},
   "outputs": [
    {
     "name": "stdout",
     "output_type": "stream",
     "text": [
      "Missing values\n"
     ]
    },
    {
     "data": {
      "text/plain": [
       "fear_greed_value             1193\n",
       "fear_greed_classification    1193\n",
       "dtype: int64"
      ]
     },
     "execution_count": 6,
     "metadata": {},
     "output_type": "execute_result"
    }
   ],
   "source": [
    "# Check for missing values and sort them in descending order\n",
    "missing_values = data.isnull().sum()\n",
    "missing_values = missing_values[missing_values > 0].sort_values(ascending=False)\n",
    "\n",
    "# Print the missing values in descending order\n",
    "print(f'Missing values')\n",
    "missing_values.head()"
   ]
  },
  {
   "cell_type": "markdown",
   "metadata": {},
   "source": [
    "# Save the dataset & sample"
   ]
  },
  {
   "cell_type": "code",
   "execution_count": 7,
   "metadata": {},
   "outputs": [
    {
     "data": {
      "text/html": [
       "<div>\n",
       "<style scoped>\n",
       "    .dataframe tbody tr th:only-of-type {\n",
       "        vertical-align: middle;\n",
       "    }\n",
       "\n",
       "    .dataframe tbody tr th {\n",
       "        vertical-align: top;\n",
       "    }\n",
       "\n",
       "    .dataframe thead th {\n",
       "        text-align: right;\n",
       "    }\n",
       "</style>\n",
       "<table border=\"1\" class=\"dataframe\">\n",
       "  <thead>\n",
       "    <tr style=\"text-align: right;\">\n",
       "      <th></th>\n",
       "      <th>date</th>\n",
       "      <th>symbol</th>\n",
       "      <th>open</th>\n",
       "      <th>high</th>\n",
       "      <th>low</th>\n",
       "      <th>close</th>\n",
       "      <th>volume</th>\n",
       "      <th>name</th>\n",
       "      <th>keywords</th>\n",
       "      <th>total_supply</th>\n",
       "      <th>...</th>\n",
       "      <th>cpi_India</th>\n",
       "      <th>cpi_Italy</th>\n",
       "      <th>cpi_Brazil</th>\n",
       "      <th>cpi_South Korea</th>\n",
       "      <th>cpi_Mexico</th>\n",
       "      <th>cpi_Saudi Arabia</th>\n",
       "      <th>cpi_Australia</th>\n",
       "      <th>cpi_Canada</th>\n",
       "      <th>cpi_France</th>\n",
       "      <th>year</th>\n",
       "    </tr>\n",
       "  </thead>\n",
       "  <tbody>\n",
       "    <tr>\n",
       "      <th>0</th>\n",
       "      <td>2020-06-01</td>\n",
       "      <td>0xBTC</td>\n",
       "      <td>0.142721</td>\n",
       "      <td>0.152836</td>\n",
       "      <td>0.133416</td>\n",
       "      <td>0.145287</td>\n",
       "      <td>1227624</td>\n",
       "      <td>0xBitcoin</td>\n",
       "      <td>0xBitcoin</td>\n",
       "      <td>2.099998e+07</td>\n",
       "      <td>...</td>\n",
       "      <td>128.5304</td>\n",
       "      <td>102.7</td>\n",
       "      <td>124.0019</td>\n",
       "      <td>105.027448</td>\n",
       "      <td>122.5766</td>\n",
       "      <td>107.8078</td>\n",
       "      <td>96.96129</td>\n",
       "      <td>106.97271</td>\n",
       "      <td>106.01</td>\n",
       "      <td>2020</td>\n",
       "    </tr>\n",
       "    <tr>\n",
       "      <th>1</th>\n",
       "      <td>2020-06-01</td>\n",
       "      <td>BTT</td>\n",
       "      <td>0.000300</td>\n",
       "      <td>0.000312</td>\n",
       "      <td>0.000298</td>\n",
       "      <td>0.000311</td>\n",
       "      <td>67136753</td>\n",
       "      <td>BitTorrent [New]</td>\n",
       "      <td>BitTorrent coin</td>\n",
       "      <td>9.900000e+14</td>\n",
       "      <td>...</td>\n",
       "      <td>128.5304</td>\n",
       "      <td>102.7</td>\n",
       "      <td>124.0019</td>\n",
       "      <td>105.027448</td>\n",
       "      <td>122.5766</td>\n",
       "      <td>107.8078</td>\n",
       "      <td>96.96129</td>\n",
       "      <td>106.97271</td>\n",
       "      <td>106.01</td>\n",
       "      <td>2020</td>\n",
       "    </tr>\n",
       "    <tr>\n",
       "      <th>2</th>\n",
       "      <td>2020-06-01</td>\n",
       "      <td>ASD</td>\n",
       "      <td>0.037355</td>\n",
       "      <td>0.038924</td>\n",
       "      <td>0.037070</td>\n",
       "      <td>0.038295</td>\n",
       "      <td>2117671</td>\n",
       "      <td>ASD</td>\n",
       "      <td>ASD</td>\n",
       "      <td>7.806153e+08</td>\n",
       "      <td>...</td>\n",
       "      <td>128.5304</td>\n",
       "      <td>102.7</td>\n",
       "      <td>124.0019</td>\n",
       "      <td>105.027448</td>\n",
       "      <td>122.5766</td>\n",
       "      <td>107.8078</td>\n",
       "      <td>96.96129</td>\n",
       "      <td>106.97271</td>\n",
       "      <td>106.01</td>\n",
       "      <td>2020</td>\n",
       "    </tr>\n",
       "    <tr>\n",
       "      <th>3</th>\n",
       "      <td>2020-06-01</td>\n",
       "      <td>NWC</td>\n",
       "      <td>0.021969</td>\n",
       "      <td>0.022889</td>\n",
       "      <td>0.021884</td>\n",
       "      <td>0.022715</td>\n",
       "      <td>238352</td>\n",
       "      <td>Numerico</td>\n",
       "      <td>Numerico</td>\n",
       "      <td>2.700505e+08</td>\n",
       "      <td>...</td>\n",
       "      <td>128.5304</td>\n",
       "      <td>102.7</td>\n",
       "      <td>124.0019</td>\n",
       "      <td>105.027448</td>\n",
       "      <td>122.5766</td>\n",
       "      <td>107.8078</td>\n",
       "      <td>96.96129</td>\n",
       "      <td>106.97271</td>\n",
       "      <td>106.01</td>\n",
       "      <td>2020</td>\n",
       "    </tr>\n",
       "    <tr>\n",
       "      <th>4</th>\n",
       "      <td>2020-06-01</td>\n",
       "      <td>DAD</td>\n",
       "      <td>0.242849</td>\n",
       "      <td>0.408407</td>\n",
       "      <td>0.242230</td>\n",
       "      <td>0.272164</td>\n",
       "      <td>10332685</td>\n",
       "      <td>DAD</td>\n",
       "      <td>DAD</td>\n",
       "      <td>1.000000e+09</td>\n",
       "      <td>...</td>\n",
       "      <td>128.5304</td>\n",
       "      <td>102.7</td>\n",
       "      <td>124.0019</td>\n",
       "      <td>105.027448</td>\n",
       "      <td>122.5766</td>\n",
       "      <td>107.8078</td>\n",
       "      <td>96.96129</td>\n",
       "      <td>106.97271</td>\n",
       "      <td>106.01</td>\n",
       "      <td>2020</td>\n",
       "    </tr>\n",
       "  </tbody>\n",
       "</table>\n",
       "<p>5 rows × 77 columns</p>\n",
       "</div>"
      ],
      "text/plain": [
       "        date symbol      open      high       low     close    volume  \\\n",
       "0 2020-06-01  0xBTC  0.142721  0.152836  0.133416  0.145287   1227624   \n",
       "1 2020-06-01    BTT  0.000300  0.000312  0.000298  0.000311  67136753   \n",
       "2 2020-06-01    ASD  0.037355  0.038924  0.037070  0.038295   2117671   \n",
       "3 2020-06-01    NWC  0.021969  0.022889  0.021884  0.022715    238352   \n",
       "4 2020-06-01    DAD  0.242849  0.408407  0.242230  0.272164  10332685   \n",
       "\n",
       "               name         keywords  total_supply  ...  cpi_India  cpi_Italy  \\\n",
       "0         0xBitcoin        0xBitcoin  2.099998e+07  ...   128.5304      102.7   \n",
       "1  BitTorrent [New]  BitTorrent coin  9.900000e+14  ...   128.5304      102.7   \n",
       "2               ASD              ASD  7.806153e+08  ...   128.5304      102.7   \n",
       "3          Numerico         Numerico  2.700505e+08  ...   128.5304      102.7   \n",
       "4               DAD              DAD  1.000000e+09  ...   128.5304      102.7   \n",
       "\n",
       "   cpi_Brazil  cpi_South Korea cpi_Mexico  cpi_Saudi Arabia  cpi_Australia  \\\n",
       "0    124.0019       105.027448   122.5766          107.8078       96.96129   \n",
       "1    124.0019       105.027448   122.5766          107.8078       96.96129   \n",
       "2    124.0019       105.027448   122.5766          107.8078       96.96129   \n",
       "3    124.0019       105.027448   122.5766          107.8078       96.96129   \n",
       "4    124.0019       105.027448   122.5766          107.8078       96.96129   \n",
       "\n",
       "  cpi_Canada cpi_France  year  \n",
       "0  106.97271     106.01  2020  \n",
       "1  106.97271     106.01  2020  \n",
       "2  106.97271     106.01  2020  \n",
       "3  106.97271     106.01  2020  \n",
       "4  106.97271     106.01  2020  \n",
       "\n",
       "[5 rows x 77 columns]"
      ]
     },
     "execution_count": 7,
     "metadata": {},
     "output_type": "execute_result"
    },
    {
     "ename": "",
     "evalue": "",
     "output_type": "error",
     "traceback": [
      "\u001b[1;31mThe Kernel crashed while executing code in the current cell or a previous cell. \n",
      "\u001b[1;31mPlease review the code in the cell(s) to identify a possible cause of the failure. \n",
      "\u001b[1;31mClick <a href='https://aka.ms/vscodeJupyterKernelCrash'>here</a> for more info. \n",
      "\u001b[1;31mView Jupyter <a href='command:jupyter.viewOutput'>log</a> for further details."
     ]
    }
   ],
   "source": [
    "# Reorder the columns\n",
    "data.reset_index(inplace=True)\n",
    "data.to_parquet(CLEAN_COMPLETE_DATA_FILE_PATH, index=False)\n",
    "\n",
    "sample_dataset = data.sample(n=1000, random_state=42)\n",
    "sample_dataset.to_csv('../data/sample.csv', index=False)\n",
    "\n",
    "data.head()"
   ]
  }
 ],
 "metadata": {
  "kernelspec": {
   "display_name": "Python 3",
   "language": "python",
   "name": "python3"
  },
  "language_info": {
   "codemirror_mode": {
    "name": "ipython",
    "version": 3
   },
   "file_extension": ".py",
   "mimetype": "text/x-python",
   "name": "python",
   "nbconvert_exporter": "python",
   "pygments_lexer": "ipython3",
   "version": "3.11.5"
  }
 },
 "nbformat": 4,
 "nbformat_minor": 2
}
