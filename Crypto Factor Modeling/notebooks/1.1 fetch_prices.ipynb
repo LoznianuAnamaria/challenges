{
 "cells": [
  {
   "cell_type": "code",
   "execution_count": 5,
   "metadata": {},
   "outputs": [
    {
     "name": "stdout",
     "output_type": "stream",
     "text": [
      "\n",
      "\u001b[1m[\u001b[0m\u001b[34;49mnotice\u001b[0m\u001b[1;39;49m]\u001b[0m\u001b[39;49m A new release of pip is available: \u001b[0m\u001b[31;49m23.2.1\u001b[0m\u001b[39;49m -> \u001b[0m\u001b[32;49m24.2\u001b[0m\n",
      "\u001b[1m[\u001b[0m\u001b[34;49mnotice\u001b[0m\u001b[1;39;49m]\u001b[0m\u001b[39;49m To update, run: \u001b[0m\u001b[32;49mpython3 -m pip install --upgrade pip\u001b[0m\n",
      "Note: you may need to restart the kernel to use updated packages.\n",
      "Looking in indexes: https://pypi.org/simple, https://pypi.ngc.nvidia.com\n",
      "Requirement already satisfied: ccxt in /Library/Frameworks/Python.framework/Versions/3.11/lib/python3.11/site-packages (4.3.70)\n",
      "Requirement already satisfied: setuptools>=60.9.0 in /Library/Frameworks/Python.framework/Versions/3.11/lib/python3.11/site-packages (from ccxt) (65.5.0)\n",
      "Requirement already satisfied: certifi>=2018.1.18 in /Library/Frameworks/Python.framework/Versions/3.11/lib/python3.11/site-packages (from ccxt) (2024.7.4)\n",
      "Requirement already satisfied: requests>=2.18.4 in /Library/Frameworks/Python.framework/Versions/3.11/lib/python3.11/site-packages (from ccxt) (2.32.3)\n",
      "Requirement already satisfied: cryptography>=2.6.1 in /Library/Frameworks/Python.framework/Versions/3.11/lib/python3.11/site-packages (from ccxt) (43.0.0)\n",
      "Requirement already satisfied: typing-extensions>=4.4.0 in /Library/Frameworks/Python.framework/Versions/3.11/lib/python3.11/site-packages (from ccxt) (4.12.2)\n",
      "Requirement already satisfied: aiohttp>=3.8 in /Library/Frameworks/Python.framework/Versions/3.11/lib/python3.11/site-packages (from ccxt) (3.10.0)\n",
      "Requirement already satisfied: aiodns>=1.1.1 in /Library/Frameworks/Python.framework/Versions/3.11/lib/python3.11/site-packages (from ccxt) (3.2.0)\n",
      "Requirement already satisfied: yarl>=1.7.2 in /Library/Frameworks/Python.framework/Versions/3.11/lib/python3.11/site-packages (from ccxt) (1.9.4)\n",
      "Requirement already satisfied: pycares>=4.0.0 in /Library/Frameworks/Python.framework/Versions/3.11/lib/python3.11/site-packages (from aiodns>=1.1.1->ccxt) (4.4.0)\n",
      "Requirement already satisfied: aiohappyeyeballs>=2.3.0 in /Library/Frameworks/Python.framework/Versions/3.11/lib/python3.11/site-packages (from aiohttp>=3.8->ccxt) (2.3.2)\n",
      "Requirement already satisfied: aiosignal>=1.1.2 in /Library/Frameworks/Python.framework/Versions/3.11/lib/python3.11/site-packages (from aiohttp>=3.8->ccxt) (1.3.1)\n",
      "Requirement already satisfied: attrs>=17.3.0 in /Library/Frameworks/Python.framework/Versions/3.11/lib/python3.11/site-packages (from aiohttp>=3.8->ccxt) (23.2.0)\n",
      "Requirement already satisfied: frozenlist>=1.1.1 in /Library/Frameworks/Python.framework/Versions/3.11/lib/python3.11/site-packages (from aiohttp>=3.8->ccxt) (1.4.1)\n",
      "Requirement already satisfied: multidict<7.0,>=4.5 in /Library/Frameworks/Python.framework/Versions/3.11/lib/python3.11/site-packages (from aiohttp>=3.8->ccxt) (6.0.5)\n",
      "Requirement already satisfied: cffi>=1.12 in /Library/Frameworks/Python.framework/Versions/3.11/lib/python3.11/site-packages (from cryptography>=2.6.1->ccxt) (1.16.0)\n",
      "Requirement already satisfied: charset-normalizer<4,>=2 in /Library/Frameworks/Python.framework/Versions/3.11/lib/python3.11/site-packages (from requests>=2.18.4->ccxt) (3.3.2)\n",
      "Requirement already satisfied: idna<4,>=2.5 in /Library/Frameworks/Python.framework/Versions/3.11/lib/python3.11/site-packages (from requests>=2.18.4->ccxt) (3.7)\n",
      "Requirement already satisfied: urllib3<3,>=1.21.1 in /Library/Frameworks/Python.framework/Versions/3.11/lib/python3.11/site-packages (from requests>=2.18.4->ccxt) (2.2.2)\n",
      "Requirement already satisfied: pycparser in /Library/Frameworks/Python.framework/Versions/3.11/lib/python3.11/site-packages (from cffi>=1.12->cryptography>=2.6.1->ccxt) (2.22)\n",
      "\n",
      "\u001b[1m[\u001b[0m\u001b[34;49mnotice\u001b[0m\u001b[1;39;49m]\u001b[0m\u001b[39;49m A new release of pip is available: \u001b[0m\u001b[31;49m23.2.1\u001b[0m\u001b[39;49m -> \u001b[0m\u001b[32;49m24.2\u001b[0m\n",
      "\u001b[1m[\u001b[0m\u001b[34;49mnotice\u001b[0m\u001b[1;39;49m]\u001b[0m\u001b[39;49m To update, run: \u001b[0m\u001b[32;49mpython3 -m pip install --upgrade pip\u001b[0m\n",
      "Note: you may need to restart the kernel to use updated packages.\n",
      "Looking in indexes: https://pypi.org/simple, https://pypi.ngc.nvidia.com\n",
      "Requirement already satisfied: numpy in /Library/Frameworks/Python.framework/Versions/3.11/lib/python3.11/site-packages (2.0.1)\n",
      "\n",
      "\u001b[1m[\u001b[0m\u001b[34;49mnotice\u001b[0m\u001b[1;39;49m]\u001b[0m\u001b[39;49m A new release of pip is available: \u001b[0m\u001b[31;49m23.2.1\u001b[0m\u001b[39;49m -> \u001b[0m\u001b[32;49m24.2\u001b[0m\n",
      "\u001b[1m[\u001b[0m\u001b[34;49mnotice\u001b[0m\u001b[1;39;49m]\u001b[0m\u001b[39;49m To update, run: \u001b[0m\u001b[32;49mpython3 -m pip install --upgrade pip\u001b[0m\n",
      "Note: you may need to restart the kernel to use updated packages.\n",
      "Looking in indexes: https://pypi.org/simple, https://pypi.ngc.nvidia.com\n",
      "Requirement already satisfied: yfinance in /Library/Frameworks/Python.framework/Versions/3.11/lib/python3.11/site-packages (0.2.41)\n",
      "Requirement already satisfied: pandas>=1.3.0 in /Library/Frameworks/Python.framework/Versions/3.11/lib/python3.11/site-packages (from yfinance) (2.2.2)\n",
      "Requirement already satisfied: numpy>=1.16.5 in /Library/Frameworks/Python.framework/Versions/3.11/lib/python3.11/site-packages (from yfinance) (2.0.1)\n",
      "Requirement already satisfied: requests>=2.31 in /Library/Frameworks/Python.framework/Versions/3.11/lib/python3.11/site-packages (from yfinance) (2.32.3)\n",
      "Requirement already satisfied: multitasking>=0.0.7 in /Library/Frameworks/Python.framework/Versions/3.11/lib/python3.11/site-packages (from yfinance) (0.0.11)\n",
      "Requirement already satisfied: lxml>=4.9.1 in /Library/Frameworks/Python.framework/Versions/3.11/lib/python3.11/site-packages (from yfinance) (5.2.2)\n",
      "Requirement already satisfied: platformdirs>=2.0.0 in /Users/ana/Library/Python/3.11/lib/python/site-packages (from yfinance) (3.11.0)\n",
      "Requirement already satisfied: pytz>=2022.5 in /Library/Frameworks/Python.framework/Versions/3.11/lib/python3.11/site-packages (from yfinance) (2024.1)\n",
      "Requirement already satisfied: frozendict>=2.3.4 in /Library/Frameworks/Python.framework/Versions/3.11/lib/python3.11/site-packages (from yfinance) (2.4.4)\n",
      "Requirement already satisfied: peewee>=3.16.2 in /Library/Frameworks/Python.framework/Versions/3.11/lib/python3.11/site-packages (from yfinance) (3.17.6)\n",
      "Requirement already satisfied: beautifulsoup4>=4.11.1 in /Library/Frameworks/Python.framework/Versions/3.11/lib/python3.11/site-packages (from yfinance) (4.12.3)\n",
      "Requirement already satisfied: html5lib>=1.1 in /Library/Frameworks/Python.framework/Versions/3.11/lib/python3.11/site-packages (from yfinance) (1.1)\n",
      "Requirement already satisfied: soupsieve>1.2 in /Library/Frameworks/Python.framework/Versions/3.11/lib/python3.11/site-packages (from beautifulsoup4>=4.11.1->yfinance) (2.5)\n",
      "Requirement already satisfied: six>=1.9 in /Users/ana/Library/Python/3.11/lib/python/site-packages (from html5lib>=1.1->yfinance) (1.16.0)\n",
      "Requirement already satisfied: webencodings in /Library/Frameworks/Python.framework/Versions/3.11/lib/python3.11/site-packages (from html5lib>=1.1->yfinance) (0.5.1)\n",
      "Requirement already satisfied: python-dateutil>=2.8.2 in /Users/ana/Library/Python/3.11/lib/python/site-packages (from pandas>=1.3.0->yfinance) (2.9.0.post0)\n",
      "Requirement already satisfied: tzdata>=2022.7 in /Library/Frameworks/Python.framework/Versions/3.11/lib/python3.11/site-packages (from pandas>=1.3.0->yfinance) (2024.1)\n",
      "Requirement already satisfied: charset-normalizer<4,>=2 in /Library/Frameworks/Python.framework/Versions/3.11/lib/python3.11/site-packages (from requests>=2.31->yfinance) (3.3.2)\n",
      "Requirement already satisfied: idna<4,>=2.5 in /Library/Frameworks/Python.framework/Versions/3.11/lib/python3.11/site-packages (from requests>=2.31->yfinance) (3.7)\n",
      "Requirement already satisfied: urllib3<3,>=1.21.1 in /Library/Frameworks/Python.framework/Versions/3.11/lib/python3.11/site-packages (from requests>=2.31->yfinance) (2.2.2)\n",
      "Requirement already satisfied: certifi>=2017.4.17 in /Library/Frameworks/Python.framework/Versions/3.11/lib/python3.11/site-packages (from requests>=2.31->yfinance) (2024.7.4)\n",
      "\n",
      "\u001b[1m[\u001b[0m\u001b[34;49mnotice\u001b[0m\u001b[1;39;49m]\u001b[0m\u001b[39;49m A new release of pip is available: \u001b[0m\u001b[31;49m23.2.1\u001b[0m\u001b[39;49m -> \u001b[0m\u001b[32;49m24.2\u001b[0m\n",
      "\u001b[1m[\u001b[0m\u001b[34;49mnotice\u001b[0m\u001b[1;39;49m]\u001b[0m\u001b[39;49m To update, run: \u001b[0m\u001b[32;49mpython3 -m pip install --upgrade pip\u001b[0m\n",
      "Note: you may need to restart the kernel to use updated packages.\n"
     ]
    }
   ],
   "source": [
    "%pip install pandas ccxt yfinance numpy"
   ]
  },
  {
   "cell_type": "code",
   "execution_count": 6,
   "metadata": {},
   "outputs": [],
   "source": [
    "import pandas as pd\n",
    "from datetime import datetime\n",
    "\n",
    "import ccxt\n",
    "import yfinance as yf"
   ]
  },
  {
   "cell_type": "code",
   "execution_count": 7,
   "metadata": {},
   "outputs": [],
   "source": [
    "input_train_file_path = '../data/train_targets.parquet'\n",
    "output_historical_data_file_path = '../data/historical_data.csv'\n",
    "\n",
    "train_df = pd.read_parquet(input_train_file_path)"
   ]
  },
  {
   "cell_type": "code",
   "execution_count": 8,
   "metadata": {},
   "outputs": [
    {
     "name": "stdout",
     "output_type": "stream",
     "text": [
      "Fetching data from 2020-06-01 till 2024-08-01\n",
      "Yahoo: Error fetching data for STRX-USD from 2020-06-01 to 2024-08-01: index 0 is out of bounds for axis 0 with size 0\n"
     ]
    },
    {
     "name": "stderr",
     "output_type": "stream",
     "text": [
      "$METAL-USD: possibly delisted; No timezone found\n"
     ]
    },
    {
     "name": "stdout",
     "output_type": "stream",
     "text": [
      "Yahoo: Error fetching data for METAL-USD from 2020-06-01 to 2024-08-01: Can only use .dt accessor with datetimelike values\n"
     ]
    },
    {
     "name": "stderr",
     "output_type": "stream",
     "text": [
      "$$MONG-USD: possibly delisted; No timezone found\n"
     ]
    },
    {
     "name": "stdout",
     "output_type": "stream",
     "text": [
      "Yahoo: Error fetching data for $MONG-USD from 2020-06-01 to 2024-08-01: Can only use .dt accessor with datetimelike values\n"
     ]
    }
   ],
   "source": [
    "# Load your dataset\n",
    "data = pd.read_parquet(input_train_file_path)\n",
    "\n",
    "# Initialize the ccxt binance client\n",
    "exchange = ccxt.binance()\n",
    "\n",
    "# Define a function to fetch historical data from Binance\n",
    "def fetch_historical_data_binance(symbol, start_date, end_date):\n",
    "    try:\n",
    "        since = exchange.parse8601(start_date + 'T00:00:00Z')\n",
    "        \n",
    "        # Fetch daily OHLCV data\n",
    "        ohlcv = exchange.fetch_ohlcv(symbol, '1d', since)\n",
    "        \n",
    "        # Convert to DataFrame\n",
    "        df = pd.DataFrame(ohlcv, columns=['timestamp', 'open', 'high', 'low', 'close', 'volume'])\n",
    "        df['date'] = pd.to_datetime(df['timestamp'], unit='ms').dt.date\n",
    "        return df[['date', 'open', 'high', 'low', 'close', 'volume']]\n",
    "    except Exception as e:\n",
    "        #print(f\"Error fetching data for {symbol} from {start_date} to {end_date}: {e}\")\n",
    "        return None\n",
    "\n",
    "# Define a function to fetch historical data from Yahoo Finance\n",
    "def fetch_historical_data_yahoo(symbol, start_date, end_date):\n",
    "    try:\n",
    "        ticker = yf.Ticker(symbol)\n",
    "        historical_data = ticker.history(start=start_date, end=end_date)\n",
    "        \n",
    "        historical_data.reset_index(inplace=True)\n",
    "        historical_data['date'] = historical_data['Date'].dt.date\n",
    "        return historical_data[['date', 'Open', 'High', 'Low', 'Close', 'Volume']].rename(columns={\n",
    "            'Open': 'open',\n",
    "            'High': 'high',\n",
    "            'Low': 'low',\n",
    "            'Close': 'close',\n",
    "            'Volume': 'volume'\n",
    "        })\n",
    "    except Exception as e:\n",
    "        print(f\"Yahoo: Error fetching data for {symbol} from {start_date} to {end_date}: {e}\")\n",
    "        return None\n",
    "\n",
    "# Set the date range\n",
    "start_date = data['date'].min()\n",
    "end_date = datetime.now().date() # Use the end date as the current date\n",
    "\n",
    "print(f'Fetching data from {start_date} till {end_date}')\n",
    "\n",
    "# Fetch data for all symbols\n",
    "all_data = pd.DataFrame()\n",
    "for symbol in data['symbol'].unique():\n",
    "    symbol_binance = symbol + '/USDT'\n",
    "    symbol_yahoo = symbol + '-USD'\n",
    "    \n",
    "    # Try fetching historical data from Binance\n",
    "    historical_data = fetch_historical_data_binance(symbol_binance, start_date, end_date)\n",
    "    \n",
    "    # If Binance data is not available, use Yahoo Finance as fallback\n",
    "    if historical_data is None:\n",
    "        historical_data = fetch_historical_data_yahoo(symbol_yahoo, start_date, end_date)\n",
    "    \n",
    "    # Add the symbol to the data\n",
    "    if historical_data is not None and not historical_data.empty:\n",
    "        historical_data['symbol'] = symbol\n",
    "        all_data = pd.concat([all_data, historical_data])\n",
    "\n",
    "# Save the fetched data to a CSV file\n",
    "all_data.to_csv(output_historical_data_file_path, index=False)\n",
    "print(f'Done! All the data has been downloaded and saved here: {output_historical_data_file_path}')"
   ]
  }
 ],
 "metadata": {
  "kernelspec": {
   "display_name": "Python 3",
   "language": "python",
   "name": "python3"
  },
  "language_info": {
   "codemirror_mode": {
    "name": "ipython",
    "version": 3
   },
   "file_extension": ".py",
   "mimetype": "text/x-python",
   "name": "python",
   "nbconvert_exporter": "python",
   "pygments_lexer": "ipython3",
   "version": "3.11.5"
  }
 },
 "nbformat": 4,
 "nbformat_minor": 2
}
