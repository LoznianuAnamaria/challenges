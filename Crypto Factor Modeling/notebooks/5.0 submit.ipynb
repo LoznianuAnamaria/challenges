{
 "cells": [
  {
   "cell_type": "code",
   "execution_count": 7,
   "metadata": {},
   "outputs": [
    {
     "name": "stdout",
     "output_type": "stream",
     "text": [
      "Looking in indexes: https://pypi.org/simple, https://pypi.ngc.nvidia.com\n",
      "Requirement already satisfied: numerapi in /Library/Frameworks/Python.framework/Versions/3.11/lib/python3.11/site-packages (2.19.0)\n",
      "Requirement already satisfied: pandas in /Library/Frameworks/Python.framework/Versions/3.11/lib/python3.11/site-packages (2.2.2)\n",
      "Requirement already satisfied: joblib in /Library/Frameworks/Python.framework/Versions/3.11/lib/python3.11/site-packages (1.4.2)\n",
      "Requirement already satisfied: requests in /Library/Frameworks/Python.framework/Versions/3.11/lib/python3.11/site-packages (from numerapi) (2.32.3)\n",
      "Requirement already satisfied: pytz in /Library/Frameworks/Python.framework/Versions/3.11/lib/python3.11/site-packages (from numerapi) (2024.1)\n",
      "Requirement already satisfied: python-dateutil in /Users/ana/Library/Python/3.11/lib/python/site-packages (from numerapi) (2.9.0.post0)\n",
      "Requirement already satisfied: tqdm>=4.29.1 in /Library/Frameworks/Python.framework/Versions/3.11/lib/python3.11/site-packages (from numerapi) (4.66.4)\n",
      "Requirement already satisfied: click>=7.0 in /Library/Frameworks/Python.framework/Versions/3.11/lib/python3.11/site-packages (from numerapi) (8.1.7)\n",
      "Requirement already satisfied: numpy>=1.23.2 in /Library/Frameworks/Python.framework/Versions/3.11/lib/python3.11/site-packages (from pandas) (2.0.1)\n",
      "Requirement already satisfied: tzdata>=2022.7 in /Library/Frameworks/Python.framework/Versions/3.11/lib/python3.11/site-packages (from pandas) (2024.1)\n",
      "Requirement already satisfied: six>=1.5 in /Users/ana/Library/Python/3.11/lib/python/site-packages (from python-dateutil->numerapi) (1.16.0)\n",
      "Requirement already satisfied: charset-normalizer<4,>=2 in /Library/Frameworks/Python.framework/Versions/3.11/lib/python3.11/site-packages (from requests->numerapi) (3.3.2)\n",
      "Requirement already satisfied: idna<4,>=2.5 in /Library/Frameworks/Python.framework/Versions/3.11/lib/python3.11/site-packages (from requests->numerapi) (3.7)\n",
      "Requirement already satisfied: urllib3<3,>=1.21.1 in /Library/Frameworks/Python.framework/Versions/3.11/lib/python3.11/site-packages (from requests->numerapi) (2.2.2)\n",
      "Requirement already satisfied: certifi>=2017.4.17 in /Library/Frameworks/Python.framework/Versions/3.11/lib/python3.11/site-packages (from requests->numerapi) (2024.7.4)\n",
      "\n",
      "\u001b[1m[\u001b[0m\u001b[34;49mnotice\u001b[0m\u001b[1;39;49m]\u001b[0m\u001b[39;49m A new release of pip is available: \u001b[0m\u001b[31;49m23.2.1\u001b[0m\u001b[39;49m -> \u001b[0m\u001b[32;49m24.2\u001b[0m\n",
      "\u001b[1m[\u001b[0m\u001b[34;49mnotice\u001b[0m\u001b[1;39;49m]\u001b[0m\u001b[39;49m To update, run: \u001b[0m\u001b[32;49mpython3 -m pip install --upgrade pip\u001b[0m\n",
      "Note: you may need to restart the kernel to use updated packages.\n"
     ]
    }
   ],
   "source": [
    "%pip install numerapi pandas joblib"
   ]
  },
  {
   "cell_type": "code",
   "execution_count": 8,
   "metadata": {},
   "outputs": [],
   "source": [
    "import pandas as pd\n",
    "from numerapi import CryptoAPI\n",
    "import joblib\n",
    "\n",
    "from dotenv import load_dotenv\n",
    "import os"
   ]
  },
  {
   "cell_type": "code",
   "execution_count": 19,
   "metadata": {},
   "outputs": [],
   "source": [
    "input_file_path = '../data/crypto_model.pkl'\n",
    "input_live_universe_file_path = '../data/merged_historical_prices.parquet'\n",
    "\n",
    "output_live_parquet_file_path = '../data/live_targets.parquet'\n",
    "output_live_csv_file_path = '../data/live_targets.csv'\n",
    "output_submission_file_path = '../data/submission.parquet'"
   ]
  },
  {
   "cell_type": "code",
   "execution_count": 12,
   "metadata": {},
   "outputs": [
    {
     "name": "stderr",
     "output_type": "stream",
     "text": [
      "2024-08-01 13:29:53,410 WARNING numerapi.base_api: You need to supply both a public id and a secret key.\n",
      "2024-08-01 13:29:56,248 INFO numerapi.utils: target file already exists\n",
      "2024-08-01 13:29:56,250 INFO numerapi.utils: download complete\n"
     ]
    },
    {
     "data": {
      "text/plain": [
       "'../data/live_targets.parquet'"
      ]
     },
     "execution_count": 12,
     "metadata": {},
     "output_type": "execute_result"
    }
   ],
   "source": [
    "# Load the .env file\n",
    "load_dotenv()\n",
    "\n",
    "# Access the environment variables\n",
    "api_key = os.getenv('API_KEY')\n",
    "api_secret = os.getenv('API_SECRET')\n",
    "\n",
    "# Use API keys to authenticate\n",
    "cApi = CryptoAPI(api_key, api_secret)\n",
    "cApi.download_dataset(\"crypto/v1.0/live_universe.parquet\", dest_path=output_live_parquet_file_path)\n"
   ]
  },
  {
   "cell_type": "code",
   "execution_count": 26,
   "metadata": {},
   "outputs": [],
   "source": [
    "historical_data = pd.read_csv('../data/historical_data.csv')\n",
    "historical_data['date'] = pd.to_datetime(historical_data['date'])\n",
    "\n",
    "live_df = pd.read_parquet(output_live_parquet_file_path)\n",
    "live_df.reset_index(drop=True, inplace=True)\n",
    "live_df.to_csv(output_live_csv_file_path)\n",
    "\n",
    "# Load the trained model\n",
    "model = joblib.load(input_file_path)"
   ]
  },
  {
   "cell_type": "code",
   "execution_count": 27,
   "metadata": {},
   "outputs": [],
   "source": [
    "# Get the latest date available in the historical data\n",
    "latest_date = historical_data['date'].max()\n",
    "\n",
    "# Filter historical data for the latest date\n",
    "latest_data = historical_data[historical_data['date'] == latest_date]"
   ]
  },
  {
   "cell_type": "code",
   "execution_count": 32,
   "metadata": {},
   "outputs": [
    {
     "name": "stdout",
     "output_type": "stream",
     "text": [
      "done!\n"
     ]
    }
   ],
   "source": [
    "\n",
    "# Merge live data with the latest historical data\n",
    "live_data = live_df.merge(latest_data, on='symbol', how='left')\n",
    "\n",
    "# Select the features\n",
    "feature_cols = ['open', 'high', 'low', 'close', 'volume']\n",
    "\n",
    "# Ensure live_data has the necessary features\n",
    "live_features = live_data[feature_cols]\n",
    "\n",
    "# Predict using the model\n",
    "live_data[\"signal\"] = model.predict(live_features)\n",
    "\n",
    "# Ensure predictions are between 0 and 1\n",
    "live_data[\"signal\"] = live_data[\"signal\"].rank(pct=True)\n",
    "\n",
    "# Format and save submission\n",
    "live_data[['symbol', 'signal']].to_parquet(output_submission_file_path)\n",
    "\n",
    "# Get model ids and submit models\n",
    "# models = napi.get_models(tournament=12)\n",
    "# for model_name, model_id in models.items():\n",
    "#     print(f'submitting {model_name}...')\n",
    "    # napi.upload_predictions(\"submission.parquet\", model_id=model_id, tournament=12)\n",
    "\n",
    "print('done!')"
   ]
  }
 ],
 "metadata": {
  "kernelspec": {
   "display_name": "Python 3",
   "language": "python",
   "name": "python3"
  },
  "language_info": {
   "codemirror_mode": {
    "name": "ipython",
    "version": 3
   },
   "file_extension": ".py",
   "mimetype": "text/x-python",
   "name": "python",
   "nbconvert_exporter": "python",
   "pygments_lexer": "ipython3",
   "version": "3.11.5"
  }
 },
 "nbformat": 4,
 "nbformat_minor": 2
}
