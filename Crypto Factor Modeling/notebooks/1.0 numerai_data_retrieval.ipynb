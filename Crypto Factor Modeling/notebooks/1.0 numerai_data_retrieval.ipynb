{
 "cells": [
  {
   "cell_type": "code",
   "execution_count": 1,
   "metadata": {},
   "outputs": [
    {
     "name": "stdout",
     "output_type": "stream",
     "text": [
      "Looking in indexes: https://pypi.org/simple, https://pypi.ngc.nvidia.com\n",
      "Requirement already satisfied: lightgbm in /Library/Frameworks/Python.framework/Versions/3.11/lib/python3.11/site-packages (4.5.0)\n",
      "Requirement already satisfied: pandas in /Library/Frameworks/Python.framework/Versions/3.11/lib/python3.11/site-packages (2.2.2)\n",
      "Requirement already satisfied: numerapi in /Library/Frameworks/Python.framework/Versions/3.11/lib/python3.11/site-packages (2.19.0)\n",
      "Requirement already satisfied: python-dotenv in /Library/Frameworks/Python.framework/Versions/3.11/lib/python3.11/site-packages (1.0.1)\n",
      "Requirement already satisfied: numpy>=1.17.0 in /Library/Frameworks/Python.framework/Versions/3.11/lib/python3.11/site-packages (from lightgbm) (2.0.1)\n",
      "Requirement already satisfied: scipy in /Library/Frameworks/Python.framework/Versions/3.11/lib/python3.11/site-packages (from lightgbm) (1.14.0)\n",
      "Requirement already satisfied: python-dateutil>=2.8.2 in /Users/ana/Library/Python/3.11/lib/python/site-packages (from pandas) (2.9.0.post0)\n",
      "Requirement already satisfied: pytz>=2020.1 in /Library/Frameworks/Python.framework/Versions/3.11/lib/python3.11/site-packages (from pandas) (2024.1)\n",
      "Requirement already satisfied: tzdata>=2022.7 in /Library/Frameworks/Python.framework/Versions/3.11/lib/python3.11/site-packages (from pandas) (2024.1)\n",
      "Requirement already satisfied: requests in /Library/Frameworks/Python.framework/Versions/3.11/lib/python3.11/site-packages (from numerapi) (2.32.3)\n",
      "Requirement already satisfied: tqdm>=4.29.1 in /Library/Frameworks/Python.framework/Versions/3.11/lib/python3.11/site-packages (from numerapi) (4.66.4)\n",
      "Requirement already satisfied: click>=7.0 in /Library/Frameworks/Python.framework/Versions/3.11/lib/python3.11/site-packages (from numerapi) (8.1.7)\n",
      "Requirement already satisfied: six>=1.5 in /Users/ana/Library/Python/3.11/lib/python/site-packages (from python-dateutil>=2.8.2->pandas) (1.16.0)\n",
      "Requirement already satisfied: charset-normalizer<4,>=2 in /Library/Frameworks/Python.framework/Versions/3.11/lib/python3.11/site-packages (from requests->numerapi) (3.3.2)\n",
      "Requirement already satisfied: idna<4,>=2.5 in /Library/Frameworks/Python.framework/Versions/3.11/lib/python3.11/site-packages (from requests->numerapi) (3.7)\n",
      "Requirement already satisfied: urllib3<3,>=1.21.1 in /Library/Frameworks/Python.framework/Versions/3.11/lib/python3.11/site-packages (from requests->numerapi) (2.2.2)\n",
      "Requirement already satisfied: certifi>=2017.4.17 in /Library/Frameworks/Python.framework/Versions/3.11/lib/python3.11/site-packages (from requests->numerapi) (2024.7.4)\n",
      "\n",
      "\u001b[1m[\u001b[0m\u001b[34;49mnotice\u001b[0m\u001b[1;39;49m]\u001b[0m\u001b[39;49m A new release of pip is available: \u001b[0m\u001b[31;49m23.2.1\u001b[0m\u001b[39;49m -> \u001b[0m\u001b[32;49m24.2\u001b[0m\n",
      "\u001b[1m[\u001b[0m\u001b[34;49mnotice\u001b[0m\u001b[1;39;49m]\u001b[0m\u001b[39;49m To update, run: \u001b[0m\u001b[32;49mpython3 -m pip install --upgrade pip\u001b[0m\n",
      "Note: you may need to restart the kernel to use updated packages.\n"
     ]
    }
   ],
   "source": [
    "%pip install lightgbm pandas numerapi python-dotenv"
   ]
  },
  {
   "cell_type": "code",
   "execution_count": 2,
   "metadata": {},
   "outputs": [],
   "source": [
    "import pandas as pd\n",
    "from numerapi import CryptoAPI\n",
    "\n",
    "from utils import (\n",
    "    CAPI_API_KEY,\n",
    "    CAPI_API_SECRET,\n",
    "    TRAIN_TARGETS_PARQUET_FILE_PATH,\n",
    "    TRAIN_TARGETS_CSV_FILE_PATH,\n",
    "    LIVE_UNIVERSE_PARQUET_FILE_PATH,\n",
    "    LIVE_UNIVERSE_CSV_FILE_PATH,\n",
    "    load_data\n",
    ")"
   ]
  },
  {
   "cell_type": "code",
   "execution_count": 3,
   "metadata": {},
   "outputs": [
    {
     "name": "stdout",
     "output_type": "stream",
     "text": [
      "['crypto/v1.0/historical_meta_models.csv', 'crypto/v1.0/historical_meta_models.parquet', 'crypto/v1.0/live_universe.parquet', 'crypto/v1.0/meta_model.csv', 'crypto/v1.0/meta_model.parquet', 'crypto/v1.0/train_targets.parquet']\n"
     ]
    },
    {
     "name": "stderr",
     "output_type": "stream",
     "text": [
      "2024-08-07 14:13:09,180 INFO numerapi.utils: starting download\n",
      "crypto/v1.0/historical_meta_models.csv: 715kB [00:00, 744kB/s]                            \n",
      "2024-08-07 14:13:11,224 INFO numerapi.utils: starting download\n",
      "crypto/v1.0/historical_meta_models.parquet: 110kB [00:00, 277kB/s]                            \n",
      "2024-08-07 14:13:12,655 INFO numerapi.utils: starting download\n",
      "crypto/v1.0/live_universe.parquet: 8.19kB [00:00, 3.95MB/s]                   \n",
      "2024-08-07 14:13:13,727 INFO numerapi.utils: starting download\n",
      "crypto/v1.0/meta_model.csv: 6.14kB [00:00, 3.56MB/s]                   \n",
      "2024-08-07 14:13:14,846 INFO numerapi.utils: starting download\n",
      "crypto/v1.0/meta_model.parquet: 9.22kB [00:00, 4.06MB/s]                   \n",
      "2024-08-07 14:13:15,981 INFO numerapi.utils: starting download\n",
      "crypto/v1.0/train_targets.parquet: 640kB [00:00, 734kB/s]                            \n"
     ]
    }
   ],
   "source": [
    "cApi = CryptoAPI(secret_key = CAPI_API_SECRET,  public_id = CAPI_API_KEY)\n",
    "\n",
    "datasets = cApi.list_datasets()\n",
    "print(datasets)\n",
    "\n",
    "for dataset in datasets: \n",
    "    cApi.download_dataset(dataset)\n",
    "\n",
    "load_data()\n"
   ]
  },
  {
   "cell_type": "code",
   "execution_count": 4,
   "metadata": {},
   "outputs": [],
   "source": [
    "\n",
    "train_df = pd.read_parquet(TRAIN_TARGETS_PARQUET_FILE_PATH)\n",
    "train_df.to_csv(TRAIN_TARGETS_CSV_FILE_PATH)\n",
    "\n",
    "live_df = pd.read_parquet(LIVE_UNIVERSE_PARQUET_FILE_PATH)\n",
    "live_df.to_csv(LIVE_UNIVERSE_CSV_FILE_PATH)"
   ]
  },
  {
   "cell_type": "code",
   "execution_count": 5,
   "metadata": {},
   "outputs": [
    {
     "data": {
      "text/plain": [
       "1437"
      ]
     },
     "execution_count": 5,
     "metadata": {},
     "output_type": "execute_result"
    }
   ],
   "source": [
    "len(train_df['symbol'].unique())"
   ]
  }
 ],
 "metadata": {
  "kernelspec": {
   "display_name": "Python 3",
   "language": "python",
   "name": "python3"
  },
  "language_info": {
   "codemirror_mode": {
    "name": "ipython",
    "version": 3
   },
   "file_extension": ".py",
   "mimetype": "text/x-python",
   "name": "python",
   "nbconvert_exporter": "python",
   "pygments_lexer": "ipython3",
   "version": "3.11.5"
  }
 },
 "nbformat": 4,
 "nbformat_minor": 2
}
