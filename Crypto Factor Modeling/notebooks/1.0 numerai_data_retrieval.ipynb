{
 "cells": [
  {
   "cell_type": "code",
   "execution_count": 1,
   "metadata": {},
   "outputs": [
    {
     "name": "stdout",
     "output_type": "stream",
     "text": [
      "\n",
      "\u001b[1m[\u001b[0m\u001b[34;49mnotice\u001b[0m\u001b[1;39;49m]\u001b[0m\u001b[39;49m A new release of pip is available: \u001b[0m\u001b[31;49m23.2.1\u001b[0m\u001b[39;49m -> \u001b[0m\u001b[32;49m24.2\u001b[0m\n",
      "\u001b[1m[\u001b[0m\u001b[34;49mnotice\u001b[0m\u001b[1;39;49m]\u001b[0m\u001b[39;49m To update, run: \u001b[0m\u001b[32;49mpython3 -m pip install --upgrade pip\u001b[0m\n",
      "Note: you may need to restart the kernel to use updated packages.\n"
     ]
    }
   ],
   "source": [
    "%pip install lightgbm pandas numerapi python-dotenv"
   ]
  },
  {
   "cell_type": "code",
   "execution_count": 2,
   "metadata": {},
   "outputs": [],
   "source": [
    "import pandas as pd\n",
    "from numerapi import CryptoAPI\n",
    "\n",
    "from utils import (\n",
    "    CAPI_API_KEY,\n",
    "    CAPI_API_SECRET,\n",
    "    TRAIN_TARGETS_PARQUET_FILE_PATH,\n",
    "    TRAIN_TARGETS_CSV_FILE_PATH,\n",
    "    LIVE_UNIVERSE_PARQUET_FILE_PATH,\n",
    "    LIVE_UNIVERSE_CSV_FILE_PATH,\n",
    "    load_data\n",
    ")"
   ]
  },
  {
   "cell_type": "code",
   "execution_count": 3,
   "metadata": {},
   "outputs": [
    {
     "name": "stdout",
     "output_type": "stream",
     "text": [
      "['crypto/v1.0/historical_meta_models.csv', 'crypto/v1.0/historical_meta_models.parquet', 'crypto/v1.0/live_universe.parquet', 'crypto/v1.0/meta_model.csv', 'crypto/v1.0/meta_model.parquet', 'crypto/v1.0/train_targets.parquet']\n"
     ]
    },
    {
     "name": "stderr",
     "output_type": "stream",
     "text": [
      "2024-08-09 11:47:17,747 INFO numerapi.utils: target file already exists\n",
      "2024-08-09 11:47:17,748 INFO numerapi.utils: download complete\n",
      "2024-08-09 11:47:18,749 INFO numerapi.utils: target file already exists\n",
      "2024-08-09 11:47:18,750 INFO numerapi.utils: download complete\n",
      "2024-08-09 11:47:19,762 INFO numerapi.utils: target file already exists\n",
      "2024-08-09 11:47:19,763 INFO numerapi.utils: download complete\n",
      "2024-08-09 11:47:20,745 INFO numerapi.utils: target file already exists\n",
      "2024-08-09 11:47:20,750 INFO numerapi.utils: download complete\n",
      "2024-08-09 11:47:21,781 INFO numerapi.utils: target file already exists\n",
      "2024-08-09 11:47:21,782 INFO numerapi.utils: download complete\n",
      "2024-08-09 11:47:22,773 INFO numerapi.utils: target file already exists\n",
      "2024-08-09 11:47:22,774 INFO numerapi.utils: download complete\n"
     ]
    },
    {
     "name": "stdout",
     "output_type": "stream",
     "text": [
      "TRAIN_START_DATE updated to: 2020-06-01, TRAIN_END_DATE updated to: 2024-07-03\n"
     ]
    }
   ],
   "source": [
    "cApi = CryptoAPI(secret_key = CAPI_API_SECRET,  public_id = CAPI_API_KEY)\n",
    "\n",
    "datasets = cApi.list_datasets()\n",
    "print(datasets)\n",
    "\n",
    "for dataset in datasets: \n",
    "    cApi.download_dataset(dataset)\n",
    "\n",
    "load_data()\n"
   ]
  },
  {
   "cell_type": "code",
   "execution_count": 4,
   "metadata": {},
   "outputs": [],
   "source": [
    "train_df = pd.read_parquet(TRAIN_TARGETS_PARQUET_FILE_PATH)\n",
    "train_df.to_csv(TRAIN_TARGETS_CSV_FILE_PATH)\n",
    "\n",
    "live_df = pd.read_parquet(LIVE_UNIVERSE_PARQUET_FILE_PATH)\n",
    "live_df.to_csv(LIVE_UNIVERSE_CSV_FILE_PATH)"
   ]
  },
  {
   "cell_type": "code",
   "execution_count": 5,
   "metadata": {},
   "outputs": [
    {
     "data": {
      "text/plain": [
       "1437"
      ]
     },
     "execution_count": 5,
     "metadata": {},
     "output_type": "execute_result"
    }
   ],
   "source": [
    "len(train_df['symbol'].unique())"
   ]
  }
 ],
 "metadata": {
  "kernelspec": {
   "display_name": "Python 3",
   "language": "python",
   "name": "python3"
  },
  "language_info": {
   "codemirror_mode": {
    "name": "ipython",
    "version": 3
   },
   "file_extension": ".py",
   "mimetype": "text/x-python",
   "name": "python",
   "nbconvert_exporter": "python",
   "pygments_lexer": "ipython3",
   "version": "3.11.5"
  }
 },
 "nbformat": 4,
 "nbformat_minor": 2
}
