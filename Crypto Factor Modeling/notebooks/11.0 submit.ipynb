{
 "cells": [
  {
   "cell_type": "code",
   "execution_count": 1,
   "metadata": {},
   "outputs": [
    {
     "name": "stdout",
     "output_type": "stream",
     "text": [
      "Looking in indexes: https://pypi.org/simple, https://pypi.ngc.nvidia.com\n",
      "Requirement already satisfied: numerapi in /Library/Frameworks/Python.framework/Versions/3.11/lib/python3.11/site-packages (2.19.0)\n",
      "Requirement already satisfied: joblib in /Library/Frameworks/Python.framework/Versions/3.11/lib/python3.11/site-packages (1.4.2)\n",
      "Requirement already satisfied: requests in /Library/Frameworks/Python.framework/Versions/3.11/lib/python3.11/site-packages (from numerapi) (2.32.3)\n",
      "Requirement already satisfied: pytz in /Library/Frameworks/Python.framework/Versions/3.11/lib/python3.11/site-packages (from numerapi) (2024.1)\n",
      "Requirement already satisfied: python-dateutil in /Users/ana/Library/Python/3.11/lib/python/site-packages (from numerapi) (2.9.0.post0)\n",
      "Requirement already satisfied: tqdm>=4.29.1 in /Library/Frameworks/Python.framework/Versions/3.11/lib/python3.11/site-packages (from numerapi) (4.66.4)\n",
      "Requirement already satisfied: click>=7.0 in /Library/Frameworks/Python.framework/Versions/3.11/lib/python3.11/site-packages (from numerapi) (8.1.7)\n",
      "Requirement already satisfied: pandas>=1.1.0 in /Library/Frameworks/Python.framework/Versions/3.11/lib/python3.11/site-packages (from numerapi) (2.2.2)\n",
      "Requirement already satisfied: numpy>=1.23.2 in /Library/Frameworks/Python.framework/Versions/3.11/lib/python3.11/site-packages (from pandas>=1.1.0->numerapi) (2.0.1)\n",
      "Requirement already satisfied: tzdata>=2022.7 in /Library/Frameworks/Python.framework/Versions/3.11/lib/python3.11/site-packages (from pandas>=1.1.0->numerapi) (2024.1)\n",
      "Requirement already satisfied: six>=1.5 in /Users/ana/Library/Python/3.11/lib/python/site-packages (from python-dateutil->numerapi) (1.16.0)\n",
      "Requirement already satisfied: charset-normalizer<4,>=2 in /Library/Frameworks/Python.framework/Versions/3.11/lib/python3.11/site-packages (from requests->numerapi) (3.3.2)\n",
      "Requirement already satisfied: idna<4,>=2.5 in /Library/Frameworks/Python.framework/Versions/3.11/lib/python3.11/site-packages (from requests->numerapi) (3.7)\n",
      "Requirement already satisfied: urllib3<3,>=1.21.1 in /Library/Frameworks/Python.framework/Versions/3.11/lib/python3.11/site-packages (from requests->numerapi) (2.2.2)\n",
      "Requirement already satisfied: certifi>=2017.4.17 in /Library/Frameworks/Python.framework/Versions/3.11/lib/python3.11/site-packages (from requests->numerapi) (2024.7.4)\n",
      "\n",
      "\u001b[1m[\u001b[0m\u001b[34;49mnotice\u001b[0m\u001b[1;39;49m]\u001b[0m\u001b[39;49m A new release of pip is available: \u001b[0m\u001b[31;49m23.2.1\u001b[0m\u001b[39;49m -> \u001b[0m\u001b[32;49m24.2\u001b[0m\n",
      "\u001b[1m[\u001b[0m\u001b[34;49mnotice\u001b[0m\u001b[1;39;49m]\u001b[0m\u001b[39;49m To update, run: \u001b[0m\u001b[32;49mpython3 -m pip install --upgrade pip\u001b[0m\n",
      "Note: you may need to restart the kernel to use updated packages.\n"
     ]
    }
   ],
   "source": [
    "%pip install numerapi joblib joblib"
   ]
  },
  {
   "cell_type": "code",
   "execution_count": 2,
   "metadata": {},
   "outputs": [
    {
     "name": "stdout",
     "output_type": "stream",
     "text": [
      "TRAIN_START_DATE updated to: 2020-06-01, TRAIN_END_DATE updated to: 2024-07-05\n"
     ]
    }
   ],
   "source": [
    "import pandas as pd\n",
    "from numerapi import CryptoAPI\n",
    "import joblib\n",
    "\n",
    "from utils import (\n",
    "    CAPI_API_KEY,\n",
    "    CAPI_API_SECRET,\n",
    "    LIVE_UNIVERSE_PARQUET_FILE_PATH,\n",
    "    FEATURES_DATA_FILE_PATH,\n",
    "    MODEL_FILE_PATH,\n",
    "    SUMBISSION_FILE_PATH\n",
    ")"
   ]
  },
  {
   "cell_type": "code",
   "execution_count": 3,
   "metadata": {},
   "outputs": [],
   "source": [
    "# Use API keys to authenticate\n",
    "cApi = CryptoAPI(secret_key = CAPI_API_SECRET,  public_id = CAPI_API_KEY)\n",
    "\n",
    "live_universe = pd.read_parquet(LIVE_UNIVERSE_PARQUET_FILE_PATH)\n"
   ]
  },
  {
   "cell_type": "code",
   "execution_count": 4,
   "metadata": {},
   "outputs": [],
   "source": [
    "features_df = pd.read_parquet(FEATURES_DATA_FILE_PATH)\n",
    "live_df = pd.read_parquet(LIVE_UNIVERSE_PARQUET_FILE_PATH)\n",
    "\n",
    "# Load the trained model\n",
    "model = joblib.load(MODEL_FILE_PATH)"
   ]
  },
  {
   "cell_type": "code",
   "execution_count": 5,
   "metadata": {},
   "outputs": [
    {
     "name": "stderr",
     "output_type": "stream",
     "text": [
      "/var/folders/pb/5sg_h26d05sf_43qbddt42080000gn/T/ipykernel_4860/3368914659.py:19: SettingWithCopyWarning: \n",
      "A value is trying to be set on a copy of a slice from a DataFrame.\n",
      "Try using .loc[row_indexer,col_indexer] = value instead\n",
      "\n",
      "See the caveats in the documentation: https://pandas.pydata.org/pandas-docs/stable/user_guide/indexing.html#returning-a-view-versus-a-copy\n",
      "  live_data[\"signal\"] = model.predict(live_features)\n",
      "/var/folders/pb/5sg_h26d05sf_43qbddt42080000gn/T/ipykernel_4860/3368914659.py:22: SettingWithCopyWarning: \n",
      "A value is trying to be set on a copy of a slice from a DataFrame.\n",
      "Try using .loc[row_indexer,col_indexer] = value instead\n",
      "\n",
      "See the caveats in the documentation: https://pandas.pydata.org/pandas-docs/stable/user_guide/indexing.html#returning-a-view-versus-a-copy\n",
      "  live_data[\"signal\"] = live_data[\"signal\"].rank(pct=True)\n"
     ]
    }
   ],
   "source": [
    "# Get the latest date available in the historical data\n",
    "latest_date = features_df['date'].max()\n",
    "\n",
    "# Filter historical data for the latest date\n",
    "latest_data = features_df[features_df['date'] == latest_date]\n",
    "\n",
    "# Merge live data with the latest historical data\n",
    "live_data = latest_data[latest_data['symbol'].isin(live_df['symbol'])]\n",
    "\n",
    "# Select the features\n",
    "feature_cols = ['symbol_encoded', 'timestamp', 'size_factor', 'liquidity_factor', 'close', 'pct_chg_30', 'close_lag_30', 'close_lag_14', 'close_lag_7', 'overall_interest_rate', 'momentum_30', 'f_g_bucket_interact_ma_1', 'f_g_bucket_interact_close_lag_3']\n",
    "\n",
    "# Ensure live_data has the necessary features\n",
    "live_features = live_data[feature_cols]\n",
    "\n",
    "# live_features.head(10)\n",
    "\n",
    "# Predict using the model\n",
    "live_data[\"signal\"] = model.predict(live_features)\n",
    "\n",
    "# Ensure predictions are between 0 and 1\n",
    "live_data[\"signal\"] = live_data[\"signal\"].rank(pct=True)\n",
    "\n",
    "# Format and save submission\n",
    "live_data[['symbol', 'signal']].to_parquet(SUMBISSION_FILE_PATH)"
   ]
  },
  {
   "cell_type": "code",
   "execution_count": 6,
   "metadata": {},
   "outputs": [
    {
     "name": "stdout",
     "output_type": "stream",
     "text": [
      "Models available: {'ana_factormodel': '1dbe8b79-ab14-4abc-910c-ce31f9e91662'}\n"
     ]
    },
    {
     "name": "stderr",
     "output_type": "stream",
     "text": [
      "2024-08-16 18:07:50,303 INFO numerapi.base_api: uploading predictions...\n"
     ]
    },
    {
     "name": "stdout",
     "output_type": "stream",
     "text": [
      "Submitting prediction for {model_id}\n",
      "Submission completed\n"
     ]
    }
   ],
   "source": [
    "# Get model ids and submit models\n",
    "models = cApi.get_models()\n",
    "print(f'Models available: {models}')\n",
    "\n",
    "model_id = cApi.get_models()['ana_factormodel']\n",
    "\n",
    "print('Submitting prediction for {model_id}')\n",
    "cApi.upload_predictions(SUMBISSION_FILE_PATH, model_id = model_id)\n",
    "\n",
    "print('Submission completed')"
   ]
  }
 ],
 "metadata": {
  "kernelspec": {
   "display_name": "Python 3",
   "language": "python",
   "name": "python3"
  },
  "language_info": {
   "codemirror_mode": {
    "name": "ipython",
    "version": 3
   },
   "file_extension": ".py",
   "mimetype": "text/x-python",
   "name": "python",
   "nbconvert_exporter": "python",
   "pygments_lexer": "ipython3",
   "version": "3.11.5"
  }
 },
 "nbformat": 4,
 "nbformat_minor": 2
}
