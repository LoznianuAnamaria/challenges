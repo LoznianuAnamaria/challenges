{
 "cells": [
  {
   "cell_type": "code",
   "execution_count": 1,
   "metadata": {},
   "outputs": [],
   "source": [
    "import os\n",
    "import shutil\n",
    "\n",
    "import nbformat\n",
    "from nbclient import NotebookClient\n",
    "from IPython.display import display, Javascript"
   ]
  },
  {
   "cell_type": "code",
   "execution_count": 2,
   "metadata": {},
   "outputs": [],
   "source": [
    "def delete_folder_contents(folder):\n",
    "    for filename in os.listdir(folder):\n",
    "        file_path = os.path.join(folder, filename)\n",
    "        try:\n",
    "            if os.path.isfile(file_path) or os.path.islink(file_path):\n",
    "                os.unlink(file_path)  # Removes files or links\n",
    "            elif os.path.isdir(file_path):\n",
    "                shutil.rmtree(file_path)  # Removes directories and their contents\n",
    "        except Exception as e:\n",
    "            print(f'Failed to delete {file_path}. Reason: {e}')\n",
    "\n",
    "def clear_outputs_in_notebook(notebook_path):\n",
    "    with open(notebook_path, 'r', encoding='utf-8') as file:\n",
    "        nb = nbformat.read(file, as_version=4)\n",
    "    for cell in nb.cells:\n",
    "        if 'outputs' in cell:\n",
    "            cell['outputs'] = []\n",
    "        if 'execution_count' in cell:\n",
    "            cell['execution_count'] = None\n",
    "    with open(notebook_path, 'w', encoding='utf-8') as file:\n",
    "        nbformat.write(nb, file)\n",
    "\n",
    "def run_and_save_notebook(notebook_path):\n",
    "    with open(notebook_path, 'r', encoding='utf-8') as file:\n",
    "        nb = nbformat.read(file, as_version=4)\n",
    "    client = NotebookClient(nb, timeout=600000)  # Set a timeout as needed\n",
    "    client.execute()\n",
    "    with open(notebook_path, 'w', encoding='utf-8') as file:\n",
    "        nbformat.write(nb, file)\n",
    "\n",
    "def run_notebooks(folder):\n",
    "    current_notebook = 'run_notebooks.ipynb'  # Replace this with the actual name of your current notebook\n",
    "\n",
    "    # Get all files in the directory, filter for notebooks, and sort them alphabetically\n",
    "    notebooks = sorted([file for file in os.listdir(folder) if file.endswith('.ipynb')])\n",
    "\n",
    "    for filename in notebooks:\n",
    "        file_path = os.path.join(folder, filename)\n",
    "        # Ensure it's not the current notebook\n",
    "        if filename != current_notebook:\n",
    "            try:\n",
    "                print(\"Running \", file_path)\n",
    "                # Clear the notebook output\n",
    "                clear_outputs_in_notebook(file_path)\n",
    "                # Run the notebook\n",
    "                run_and_save_notebook(file_path)\n",
    "            except Exception as e:\n",
    "                print(f'Failed to run {file_path}. Reason: {e}')\n",
    "    print('Awesome work! All the notebooks have run successfully. Head over to each to see the results!')\n"
   ]
  },
  {
   "cell_type": "code",
   "execution_count": 3,
   "metadata": {},
   "outputs": [
    {
     "name": "stdout",
     "output_type": "stream",
     "text": [
      "Running  ./1.0 data_retrieval.ipynb\n",
      "Running  ./1.1. data_info.ipynb\n",
      "Running  ./2.0. data_cleanup.ipynb\n",
      "Running  ./2.1. code_insee_cleanup.ipynb\n",
      "Running  ./2.2. rows_cleanup.ipynb\n",
      "Running  ./2.3. save_cleanup.ipynb\n",
      "Running  ./3.0. columns_processing.ipynb\n",
      "Running  ./4.0. data_selection.ipynb\n",
      "Running  ./4.1. commune_ranking.ipynb\n",
      "Running  ./4.1.1 department_ranking.ipynb\n",
      "Running  ./4.2. commune_evolution.ipynb\n",
      "Running  ./4.3. commune_growth.ipynb\n",
      "Running  ./5.0. commune_population_correlation.ipynb\n",
      "Running  ./6.0. significant_taxes.ipynb\n",
      "Running  ./7.0. pt_tax_reform.ipynb\n",
      "Running  ./8.0. prediction_model.ipynb\n",
      "Awesome work! All the notebooks have run successfully. Head over to each to see the results!\n"
     ]
    }
   ],
   "source": [
    "delete_folder_contents('../data/interm/')\n",
    "run_notebooks('./')"
   ]
  }
 ],
 "metadata": {
  "kernelspec": {
   "display_name": "myenv",
   "language": "python",
   "name": "python3"
  },
  "language_info": {
   "codemirror_mode": {
    "name": "ipython",
    "version": 3
   },
   "file_extension": ".py",
   "mimetype": "text/x-python",
   "name": "python",
   "nbconvert_exporter": "python",
   "pygments_lexer": "ipython3",
   "version": "3.9.18"
  }
 },
 "nbformat": 4,
 "nbformat_minor": 2
}
