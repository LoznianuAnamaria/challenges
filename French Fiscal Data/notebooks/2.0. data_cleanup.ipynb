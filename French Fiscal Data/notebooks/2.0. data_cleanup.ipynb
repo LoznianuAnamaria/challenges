{
 "cells": [
  {
   "cell_type": "code",
   "execution_count": 1,
   "metadata": {
    "execution": {
     "iopub.execute_input": "2024-07-22T19:54:40.601898Z",
     "iopub.status.busy": "2024-07-22T19:54:40.601739Z",
     "iopub.status.idle": "2024-07-22T19:54:43.314691Z",
     "shell.execute_reply": "2024-07-22T19:54:43.314244Z"
    }
   },
   "outputs": [
    {
     "name": "stdout",
     "output_type": "stream",
     "text": [
      "Looking in indexes: https://pypi.org/simple, https://pypi.ngc.nvidia.com\r\n",
      "Requirement already satisfied: pandas in /Users/ana/Documents/Ocean/DataSharing/myenv/lib/python3.9/site-packages (2.2.2)\r\n"
     ]
    },
    {
     "name": "stdout",
     "output_type": "stream",
     "text": [
      "Requirement already satisfied: pytz>=2020.1 in /Users/ana/Documents/Ocean/DataSharing/myenv/lib/python3.9/site-packages (from pandas) (2024.1)\r\n",
      "Requirement already satisfied: numpy>=1.22.4 in /Users/ana/Documents/Ocean/DataSharing/myenv/lib/python3.9/site-packages (from pandas) (1.26.4)\r\n",
      "Requirement already satisfied: python-dateutil>=2.8.2 in /Users/ana/Documents/Ocean/DataSharing/myenv/lib/python3.9/site-packages (from pandas) (2.9.0.post0)\r\n",
      "Requirement already satisfied: tzdata>=2022.7 in /Users/ana/Documents/Ocean/DataSharing/myenv/lib/python3.9/site-packages (from pandas) (2024.1)\r\n",
      "Requirement already satisfied: six>=1.5 in /Users/ana/Documents/Ocean/DataSharing/myenv/lib/python3.9/site-packages (from python-dateutil>=2.8.2->pandas) (1.16.0)\r\n"
     ]
    },
    {
     "name": "stdout",
     "output_type": "stream",
     "text": [
      "\r\n",
      "\u001b[1m[\u001b[0m\u001b[34;49mnotice\u001b[0m\u001b[1;39;49m]\u001b[0m\u001b[39;49m A new release of pip is available: \u001b[0m\u001b[31;49m23.0.1\u001b[0m\u001b[39;49m -> \u001b[0m\u001b[32;49m24.1.2\u001b[0m\r\n",
      "\u001b[1m[\u001b[0m\u001b[34;49mnotice\u001b[0m\u001b[1;39;49m]\u001b[0m\u001b[39;49m To update, run: \u001b[0m\u001b[32;49mpip install --upgrade pip\u001b[0m\r\n"
     ]
    },
    {
     "name": "stdout",
     "output_type": "stream",
     "text": [
      "Note: you may need to restart the kernel to use updated packages.\n"
     ]
    }
   ],
   "source": [
    "%pip install pandas\n",
    "\n",
    "import gc\n",
    "import pandas as pd"
   ]
  },
  {
   "cell_type": "code",
   "execution_count": 2,
   "metadata": {
    "execution": {
     "iopub.execute_input": "2024-07-22T19:54:43.316931Z",
     "iopub.status.busy": "2024-07-22T19:54:43.316735Z",
     "iopub.status.idle": "2024-07-22T19:54:43.319039Z",
     "shell.execute_reply": "2024-07-22T19:54:43.318625Z"
    }
   },
   "outputs": [],
   "source": [
    "input_parquet_file_path = '../data/interm/1.0_taxdata.parquet'\n",
    "output_parquet_file_path = '../data/interm/2.0_taxdata.parquet'\n",
    "\n",
    "input_department_names_file_path = '../data/department_names.csv'"
   ]
  },
  {
   "cell_type": "code",
   "execution_count": 3,
   "metadata": {
    "execution": {
     "iopub.execute_input": "2024-07-22T19:54:43.320736Z",
     "iopub.status.busy": "2024-07-22T19:54:43.320612Z",
     "iopub.status.idle": "2024-07-22T19:54:58.109124Z",
     "shell.execute_reply": "2024-07-22T19:54:58.108328Z"
    }
   },
   "outputs": [],
   "source": [
    "df = pd.read_parquet(input_parquet_file_path)\n",
    "\n",
    "departments_df = pd.read_csv(input_department_names_file_path)"
   ]
  },
  {
   "cell_type": "markdown",
   "metadata": {},
   "source": [
    "# Correct, clean and fill the commune identifiers data"
   ]
  },
  {
   "cell_type": "code",
   "execution_count": 4,
   "metadata": {
    "execution": {
     "iopub.execute_input": "2024-07-22T19:54:58.113179Z",
     "iopub.status.busy": "2024-07-22T19:54:58.112983Z",
     "iopub.status.idle": "2024-07-22T20:00:46.703537Z",
     "shell.execute_reply": "2024-07-22T20:00:46.700795Z"
    }
   },
   "outputs": [],
   "source": [
    "# Strip any leading \"- \" from 'Libellé commune' and trim extra whitespace\n",
    "df['Libellé commune'] = df['Libellé commune'].map(lambda x: x.lstrip('- ').strip() if isinstance(x, str) else x)\n",
    "\n",
    "# Clean the 'DEPARTEMENT' field\n",
    "df['DEPARTEMENT'] = df['DEPARTEMENT'].astype(str).str.strip().replace('\\n', '', regex=True)\n",
    "df['DEPARTEMENT'] = df['DEPARTEMENT'].fillna('').map(lambda x: x.strip() if pd.notna(x) else '')\n",
    "df['DEPARTEMENT'] = df['DEPARTEMENT'].apply(lambda x: '0' + x if len(x) == 1 else x)\n",
    "\n",
    "# Clean the 'COMMUNE' field\n",
    "df['COMMUNE'] = df['COMMUNE'].where(df['COMMUNE'] != 999, 56)\n",
    "df['COMMUNE'] = df['COMMUNE'].fillna(0).astype(int)\n",
    "\n",
    "# Clean the DEPARTEMENT field\n",
    "# Example: 96 - 101. Should be 971 - 01\n",
    "# Example: 97 - 201. Should be 972 - 01\n",
    "# Example: 98 - 301. Should be 973 - 01\n",
    "# Example: 99 - 401. Should be 974 - 01\n",
    "df['DEPARTEMENT'] = df['DEPARTEMENT'].where(df['DEPARTEMENT'] != '96', '971')\n",
    "df['DEPARTEMENT'] = df['DEPARTEMENT'].where(df['DEPARTEMENT'] != '97', '972')\n",
    "df['DEPARTEMENT'] = df['DEPARTEMENT'].where(df['DEPARTEMENT'] != '98', '973')\n",
    "df['DEPARTEMENT'] = df['DEPARTEMENT'].where(df['DEPARTEMENT'] != '99', '974')\n",
    "\n",
    "# Convert COMMUNE column to strings for transformation\n",
    "df['COMMUNE'] = df['COMMUNE'].astype(str)\n",
    "df['COMMUNE'] = df.apply(lambda row: str(row['COMMUNE'][1:]) if row['DEPARTEMENT'] in ['971', '972','973', '974'] and len(row['COMMUNE']) == 3 else row['COMMUNE'], axis=1)\n",
    "df['COMMUNE'] = df['COMMUNE'].astype(int)"
   ]
  },
  {
   "cell_type": "markdown",
   "metadata": {},
   "source": [
    "# Save the results"
   ]
  },
  {
   "cell_type": "code",
   "execution_count": 5,
   "metadata": {
    "execution": {
     "iopub.execute_input": "2024-07-22T20:00:46.727780Z",
     "iopub.status.busy": "2024-07-22T20:00:46.727581Z",
     "iopub.status.idle": "2024-07-22T20:11:28.362873Z",
     "shell.execute_reply": "2024-07-22T20:11:28.362592Z"
    }
   },
   "outputs": [
    {
     "data": {
      "text/plain": [
       "0"
      ]
     },
     "execution_count": 5,
     "metadata": {},
     "output_type": "execute_result"
    }
   ],
   "source": [
    "# After cleaning up the DEPARTMENT codes, add a new column DEPARTMENT_LABEL to have all the names of the departments\n",
    "merged_df = pd.merge(df, departments_df[['DEPARTEMENT', 'DEPARTEMENT_LABEL']], on='DEPARTEMENT', how='left')\n",
    "\n",
    "# Save the processed data back to a Parquet file\n",
    "merged_df.to_parquet(output_parquet_file_path)\n",
    "\n",
    "del df\n",
    "del departments_df\n",
    "del merged_df\n",
    "gc.collect()"
   ]
  }
 ],
 "metadata": {
  "kernelspec": {
   "display_name": "myenv",
   "language": "python",
   "name": "python3"
  },
  "language_info": {
   "codemirror_mode": {
    "name": "ipython",
    "version": 3
   },
   "file_extension": ".py",
   "mimetype": "text/x-python",
   "name": "python",
   "nbconvert_exporter": "python",
   "pygments_lexer": "ipython3",
   "version": "3.9.18"
  }
 },
 "nbformat": 4,
 "nbformat_minor": 2
}
