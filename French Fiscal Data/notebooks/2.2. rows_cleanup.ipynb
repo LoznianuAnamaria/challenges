{
 "cells": [
  {
   "cell_type": "code",
   "execution_count": 1,
   "metadata": {
    "execution": {
     "iopub.execute_input": "2024-07-22T20:15:48.300822Z",
     "iopub.status.busy": "2024-07-22T20:15:48.300570Z",
     "iopub.status.idle": "2024-07-22T20:15:51.239659Z",
     "shell.execute_reply": "2024-07-22T20:15:51.239359Z"
    }
   },
   "outputs": [
    {
     "name": "stdout",
     "output_type": "stream",
     "text": [
      "Looking in indexes: https://pypi.org/simple, https://pypi.ngc.nvidia.com\r\n",
      "Requirement already satisfied: pandas in /Users/ana/Documents/Ocean/DataSharing/myenv/lib/python3.9/site-packages (2.2.2)\r\n",
      "Requirement already satisfied: numpy>=1.22.4 in /Users/ana/Documents/Ocean/DataSharing/myenv/lib/python3.9/site-packages (from pandas) (1.26.4)\r\n",
      "Requirement already satisfied: pytz>=2020.1 in /Users/ana/Documents/Ocean/DataSharing/myenv/lib/python3.9/site-packages (from pandas) (2024.1)\r\n",
      "Requirement already satisfied: python-dateutil>=2.8.2 in /Users/ana/Documents/Ocean/DataSharing/myenv/lib/python3.9/site-packages (from pandas) (2.9.0.post0)\r\n",
      "Requirement already satisfied: tzdata>=2022.7 in /Users/ana/Documents/Ocean/DataSharing/myenv/lib/python3.9/site-packages (from pandas) (2024.1)\r\n"
     ]
    },
    {
     "name": "stdout",
     "output_type": "stream",
     "text": [
      "Requirement already satisfied: six>=1.5 in /Users/ana/Documents/Ocean/DataSharing/myenv/lib/python3.9/site-packages (from python-dateutil>=2.8.2->pandas) (1.16.0)\r\n"
     ]
    },
    {
     "name": "stdout",
     "output_type": "stream",
     "text": [
      "\r\n",
      "\u001b[1m[\u001b[0m\u001b[34;49mnotice\u001b[0m\u001b[1;39;49m]\u001b[0m\u001b[39;49m A new release of pip is available: \u001b[0m\u001b[31;49m23.0.1\u001b[0m\u001b[39;49m -> \u001b[0m\u001b[32;49m24.1.2\u001b[0m\r\n",
      "\u001b[1m[\u001b[0m\u001b[34;49mnotice\u001b[0m\u001b[1;39;49m]\u001b[0m\u001b[39;49m To update, run: \u001b[0m\u001b[32;49mpip install --upgrade pip\u001b[0m\r\n"
     ]
    },
    {
     "name": "stdout",
     "output_type": "stream",
     "text": [
      "Note: you may need to restart the kernel to use updated packages.\n"
     ]
    }
   ],
   "source": [
    "%pip install pandas\n",
    "\n",
    "import gc\n",
    "import pandas as pd"
   ]
  },
  {
   "cell_type": "code",
   "execution_count": 2,
   "metadata": {
    "execution": {
     "iopub.execute_input": "2024-07-22T20:15:51.241545Z",
     "iopub.status.busy": "2024-07-22T20:15:51.241385Z",
     "iopub.status.idle": "2024-07-22T20:15:51.243265Z",
     "shell.execute_reply": "2024-07-22T20:15:51.243008Z"
    }
   },
   "outputs": [],
   "source": [
    "input_parquet_file_path = '../data/interm/2.1_taxdata.parquet'\n",
    "\n",
    "output_parquet_file_path = '../data/interm/2.2_taxdata.parquet'"
   ]
  },
  {
   "cell_type": "code",
   "execution_count": 3,
   "metadata": {
    "execution": {
     "iopub.execute_input": "2024-07-22T20:15:51.244723Z",
     "iopub.status.busy": "2024-07-22T20:15:51.244609Z",
     "iopub.status.idle": "2024-07-22T20:16:45.338777Z",
     "shell.execute_reply": "2024-07-22T20:16:45.335211Z"
    }
   },
   "outputs": [],
   "source": [
    "data_df = pd.read_parquet(input_parquet_file_path)\n",
    "\n",
    "code_insee_identifier = 'Clean code INSEE'"
   ]
  },
  {
   "cell_type": "code",
   "execution_count": 4,
   "metadata": {
    "execution": {
     "iopub.execute_input": "2024-07-22T20:16:45.359192Z",
     "iopub.status.busy": "2024-07-22T20:16:45.358983Z",
     "iopub.status.idle": "2024-07-22T20:18:43.756721Z",
     "shell.execute_reply": "2024-07-22T20:18:43.753125Z"
    }
   },
   "outputs": [],
   "source": [
    "# Fill in missing values in the libelle commune field\n",
    "missing_libelle_names = {\n",
    "    \"97102\": \"ANSE-BERTRAND\",\n",
    "    \"97104\": \"BAILLIF\",\n",
    "    \"97105\": \"BASSE-TERRE\",\n",
    "    \"97106\": \"BOUILLANTAIS\",\n",
    "    \"97107\": \"CAPESTERRE-BELLE-EAU\",\n",
    "}\n",
    "data_df['Libellé commune'] = data_df[code_insee_identifier].map(missing_libelle_names).fillna(data_df['Libellé commune'])\n",
    "\n",
    "# Replace VILLE DE PARIS with PARIS all over the places\n",
    "data_df['Libellé commune'] = data_df['Libellé commune'].replace('VILLE DE PARIS', 'PARIS')\n",
    "\n",
    "\n",
    "# After the Clean code INSEE calculations, add a LABEL to represent the Clean code INSEE - Commune name - Department name\n",
    "descriptive_label_df = pd.DataFrame({\n",
    "    'LABEL': data_df[code_insee_identifier] + ' - ' + data_df['Libellé commune'] + ' - ' + data_df[\"DEPARTEMENT_LABEL\"]\n",
    "})\n",
    "\n",
    "result_df = pd.concat([data_df, descriptive_label_df], axis=1)"
   ]
  },
  {
   "cell_type": "markdown",
   "metadata": {},
   "source": [
    "# Cleanup communes that don't have more then 5 entries or data for less than 5 years"
   ]
  },
  {
   "cell_type": "code",
   "execution_count": 5,
   "metadata": {
    "execution": {
     "iopub.execute_input": "2024-07-22T20:18:43.773722Z",
     "iopub.status.busy": "2024-07-22T20:18:43.773422Z",
     "iopub.status.idle": "2024-07-22T20:19:50.722714Z",
     "shell.execute_reply": "2024-07-22T20:19:50.717844Z"
    }
   },
   "outputs": [],
   "source": [
    "min_number_of_entries = 5\n",
    "min_number_of_years = 5\n",
    "\n",
    "# Filter the dataset to keep only relevant columns: Clean code insee and annee\n",
    "df_filtered = result_df[[code_insee_identifier, 'ANNEE']]\n",
    "\n",
    "# Group by 'Clean code INSEE' and filter for communes with at least 10 entries and data for at least 5 years\n",
    "commune_counts = df_filtered.groupby('Clean code INSEE').agg({\n",
    "    'ANNEE': ['count', 'nunique']\n",
    "})\n",
    "commune_counts.columns = ['entry_count', 'year_count']\n",
    "\n",
    "# Get communes that do not fit the criteria\n",
    "communes_to_drop = commune_counts[(commune_counts['entry_count'] < min_number_of_entries) | (commune_counts['year_count'] < min_number_of_years)].index\n",
    "\n",
    "# Filter the original dataframe to get the data for these communes\n",
    "df_not_fit = result_df[result_df[code_insee_identifier].isin(communes_to_drop)]\n",
    "df_not_fit_codes_labels = df_not_fit[[code_insee_identifier, 'LABEL']]\n",
    "\n",
    "# Filter the original dataframe to get the data for communes that fit the criteria\n",
    "cleaned_data_df = result_df[~result_df[code_insee_identifier].isin(communes_to_drop)]"
   ]
  },
  {
   "cell_type": "code",
   "execution_count": 6,
   "metadata": {
    "execution": {
     "iopub.execute_input": "2024-07-22T20:19:50.738053Z",
     "iopub.status.busy": "2024-07-22T20:19:50.737741Z",
     "iopub.status.idle": "2024-07-22T20:19:50.869634Z",
     "shell.execute_reply": "2024-07-22T20:19:50.869293Z"
    }
   },
   "outputs": [
    {
     "name": "stdout",
     "output_type": "stream",
     "text": [
      "The following communes are be dropped from the calculations:  Index(['07046', '08221', '13120', '66200', '67211', '72206', '77535', '77536',\n",
      "       '77537', '78689', '80772', '91693', '91694', '95691'],\n",
      "      dtype='string', name='Clean code INSEE')\n"
     ]
    },
    {
     "data": {
      "text/html": [
       "<div>\n",
       "<style scoped>\n",
       "    .dataframe tbody tr th:only-of-type {\n",
       "        vertical-align: middle;\n",
       "    }\n",
       "\n",
       "    .dataframe tbody tr th {\n",
       "        vertical-align: top;\n",
       "    }\n",
       "\n",
       "    .dataframe thead th {\n",
       "        text-align: right;\n",
       "    }\n",
       "</style>\n",
       "<table border=\"1\" class=\"dataframe\">\n",
       "  <thead>\n",
       "    <tr style=\"text-align: right;\">\n",
       "      <th></th>\n",
       "      <th>Clean code INSEE</th>\n",
       "      <th>LABEL</th>\n",
       "      <th>entry_count</th>\n",
       "      <th>year_count</th>\n",
       "    </tr>\n",
       "  </thead>\n",
       "  <tbody>\n",
       "    <tr>\n",
       "      <th>364025</th>\n",
       "      <td>72206</td>\n",
       "      <td>72206 - MONTFORT LE ROTROU - Sarthe</td>\n",
       "      <td>4</td>\n",
       "      <td>4</td>\n",
       "    </tr>\n",
       "    <tr>\n",
       "      <th>375182</th>\n",
       "      <td>13120</td>\n",
       "      <td>13120 - RIVES DE L'ETANG DE BERRE - Bouches-du...</td>\n",
       "      <td>3</td>\n",
       "      <td>3</td>\n",
       "    </tr>\n",
       "    <tr>\n",
       "      <th>402639</th>\n",
       "      <td>77535</td>\n",
       "      <td>77535 - MARNE-LA-VALLEE - Seine-et-Marne</td>\n",
       "      <td>3</td>\n",
       "      <td>3</td>\n",
       "    </tr>\n",
       "    <tr>\n",
       "      <th>402640</th>\n",
       "      <td>77536</td>\n",
       "      <td>77536 - GRAND-MELUN - Seine-et-Marne</td>\n",
       "      <td>3</td>\n",
       "      <td>3</td>\n",
       "    </tr>\n",
       "    <tr>\n",
       "      <th>402641</th>\n",
       "      <td>77537</td>\n",
       "      <td>77537 - SENART-VILLENEUVE - Seine-et-Marne</td>\n",
       "      <td>3</td>\n",
       "      <td>3</td>\n",
       "    </tr>\n",
       "    <tr>\n",
       "      <th>402902</th>\n",
       "      <td>78689</td>\n",
       "      <td>78689 - ST QUENTIN EN YVELINES - Yvelines</td>\n",
       "      <td>3</td>\n",
       "      <td>3</td>\n",
       "    </tr>\n",
       "    <tr>\n",
       "      <th>403932</th>\n",
       "      <td>80772</td>\n",
       "      <td>80772 - VACQUERIE - Somme</td>\n",
       "      <td>3</td>\n",
       "      <td>3</td>\n",
       "    </tr>\n",
       "    <tr>\n",
       "      <th>406842</th>\n",
       "      <td>91693</td>\n",
       "      <td>91693 - EVRY VILLE NOUVELLE - Essonne</td>\n",
       "      <td>3</td>\n",
       "      <td>3</td>\n",
       "    </tr>\n",
       "    <tr>\n",
       "      <th>406843</th>\n",
       "      <td>91694</td>\n",
       "      <td>91694 - ROUGEAU-SENART - Essonne</td>\n",
       "      <td>3</td>\n",
       "      <td>3</td>\n",
       "    </tr>\n",
       "    <tr>\n",
       "      <th>407152</th>\n",
       "      <td>95691</td>\n",
       "      <td>95691 - CERGY-POINTOISE - Val-d'Oise</td>\n",
       "      <td>3</td>\n",
       "      <td>3</td>\n",
       "    </tr>\n",
       "    <tr>\n",
       "      <th>409396</th>\n",
       "      <td>07046</td>\n",
       "      <td>07046 - CASTELJAU - Ardèche</td>\n",
       "      <td>1</td>\n",
       "      <td>1</td>\n",
       "    </tr>\n",
       "    <tr>\n",
       "      <th>411769</th>\n",
       "      <td>13120</td>\n",
       "      <td>13120 - N-O DE L ETANG DE BERRE - Bouches-du-R...</td>\n",
       "      <td>3</td>\n",
       "      <td>3</td>\n",
       "    </tr>\n",
       "    <tr>\n",
       "      <th>446447</th>\n",
       "      <td>08221</td>\n",
       "      <td>08221 - HAVYS - Ardennes</td>\n",
       "      <td>1</td>\n",
       "      <td>1</td>\n",
       "    </tr>\n",
       "    <tr>\n",
       "      <th>471167</th>\n",
       "      <td>66200</td>\n",
       "      <td>66200 - TALAU - Pyrénées-Orientales</td>\n",
       "      <td>1</td>\n",
       "      <td>1</td>\n",
       "    </tr>\n",
       "    <tr>\n",
       "      <th>471392</th>\n",
       "      <td>67211</td>\n",
       "      <td>67211 - HOHWILLER - Bas-Rhin</td>\n",
       "      <td>1</td>\n",
       "      <td>1</td>\n",
       "    </tr>\n",
       "  </tbody>\n",
       "</table>\n",
       "</div>"
      ],
      "text/plain": [
       "       Clean code INSEE                                              LABEL  \\\n",
       "364025            72206                72206 - MONTFORT LE ROTROU - Sarthe   \n",
       "375182            13120  13120 - RIVES DE L'ETANG DE BERRE - Bouches-du...   \n",
       "402639            77535           77535 - MARNE-LA-VALLEE - Seine-et-Marne   \n",
       "402640            77536               77536 - GRAND-MELUN - Seine-et-Marne   \n",
       "402641            77537         77537 - SENART-VILLENEUVE - Seine-et-Marne   \n",
       "402902            78689          78689 - ST QUENTIN EN YVELINES - Yvelines   \n",
       "403932            80772                          80772 - VACQUERIE - Somme   \n",
       "406842            91693              91693 - EVRY VILLE NOUVELLE - Essonne   \n",
       "406843            91694                   91694 - ROUGEAU-SENART - Essonne   \n",
       "407152            95691               95691 - CERGY-POINTOISE - Val-d'Oise   \n",
       "409396            07046                        07046 - CASTELJAU - Ardèche   \n",
       "411769            13120  13120 - N-O DE L ETANG DE BERRE - Bouches-du-R...   \n",
       "446447            08221                           08221 - HAVYS - Ardennes   \n",
       "471167            66200                66200 - TALAU - Pyrénées-Orientales   \n",
       "471392            67211                       67211 - HOHWILLER - Bas-Rhin   \n",
       "\n",
       "        entry_count  year_count  \n",
       "364025            4           4  \n",
       "375182            3           3  \n",
       "402639            3           3  \n",
       "402640            3           3  \n",
       "402641            3           3  \n",
       "402902            3           3  \n",
       "403932            3           3  \n",
       "406842            3           3  \n",
       "406843            3           3  \n",
       "407152            3           3  \n",
       "409396            1           1  \n",
       "411769            3           3  \n",
       "446447            1           1  \n",
       "471167            1           1  \n",
       "471392            1           1  "
      ]
     },
     "execution_count": 6,
     "metadata": {},
     "output_type": "execute_result"
    }
   ],
   "source": [
    "\n",
    "print('The following communes are be dropped from the calculations: ', communes_to_drop)\n",
    "\n",
    "# Merge with commune_counts to get entry count and year count\n",
    "df_not_fit_codes_labels = df_not_fit_codes_labels.merge(commune_counts, left_on=code_insee_identifier, right_index=True)\n",
    "df_not_fit_codes_labels = df_not_fit_codes_labels.drop_duplicates(subset=[code_insee_identifier, 'LABEL'])\n",
    "\n",
    "df_not_fit_codes_labels.head(25)"
   ]
  },
  {
   "cell_type": "code",
   "execution_count": 7,
   "metadata": {
    "execution": {
     "iopub.execute_input": "2024-07-22T20:19:50.879584Z",
     "iopub.status.busy": "2024-07-22T20:19:50.879427Z",
     "iopub.status.idle": "2024-07-22T20:38:27.133475Z",
     "shell.execute_reply": "2024-07-22T20:38:27.133192Z"
    }
   },
   "outputs": [
    {
     "name": "stdout",
     "output_type": "stream",
     "text": [
      "Number of rows: 1528887\n",
      "Number of communes: 36746\n"
     ]
    },
    {
     "data": {
      "text/plain": [
       "0"
      ]
     },
     "execution_count": 7,
     "metadata": {},
     "output_type": "execute_result"
    }
   ],
   "source": [
    "# Save the processed data back to a Parquet file\n",
    "cleaned_data_df.to_parquet(output_parquet_file_path)\n",
    "\n",
    "print(f'Number of rows: {cleaned_data_df.shape[0]}')\n",
    "num_unique_clean_code_insee = cleaned_data_df[code_insee_identifier].nunique()\n",
    "\n",
    "print(f'Number of communes: {num_unique_clean_code_insee}')\n",
    "\n",
    "del result_df\n",
    "del data_df\n",
    "gc.collect()"
   ]
  }
 ],
 "metadata": {
  "kernelspec": {
   "display_name": "myenv",
   "language": "python",
   "name": "python3"
  },
  "language_info": {
   "codemirror_mode": {
    "name": "ipython",
    "version": 3
   },
   "file_extension": ".py",
   "mimetype": "text/x-python",
   "name": "python",
   "nbconvert_exporter": "python",
   "pygments_lexer": "ipython3",
   "version": "3.9.18"
  }
 },
 "nbformat": 4,
 "nbformat_minor": 2
}
