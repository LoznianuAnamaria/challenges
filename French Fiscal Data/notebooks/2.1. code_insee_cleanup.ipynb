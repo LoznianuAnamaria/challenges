{
 "cells": [
  {
   "cell_type": "code",
   "execution_count": 1,
   "metadata": {
    "execution": {
     "iopub.execute_input": "2024-07-22T20:11:30.044908Z",
     "iopub.status.busy": "2024-07-22T20:11:30.044786Z",
     "iopub.status.idle": "2024-07-22T20:11:35.008042Z",
     "shell.execute_reply": "2024-07-22T20:11:35.007650Z"
    }
   },
   "outputs": [
    {
     "name": "stdout",
     "output_type": "stream",
     "text": [
      "Looking in indexes: https://pypi.org/simple, https://pypi.ngc.nvidia.com\r\n",
      "Requirement already satisfied: pandas in /Users/ana/Documents/Ocean/DataSharing/myenv/lib/python3.9/site-packages (2.2.2)\r\n"
     ]
    },
    {
     "name": "stdout",
     "output_type": "stream",
     "text": [
      "Requirement already satisfied: tzdata>=2022.7 in /Users/ana/Documents/Ocean/DataSharing/myenv/lib/python3.9/site-packages (from pandas) (2024.1)\r\n",
      "Requirement already satisfied: numpy>=1.22.4 in /Users/ana/Documents/Ocean/DataSharing/myenv/lib/python3.9/site-packages (from pandas) (1.26.4)\r\n",
      "Requirement already satisfied: pytz>=2020.1 in /Users/ana/Documents/Ocean/DataSharing/myenv/lib/python3.9/site-packages (from pandas) (2024.1)\r\n",
      "Requirement already satisfied: python-dateutil>=2.8.2 in /Users/ana/Documents/Ocean/DataSharing/myenv/lib/python3.9/site-packages (from pandas) (2.9.0.post0)\r\n",
      "Requirement already satisfied: six>=1.5 in /Users/ana/Documents/Ocean/DataSharing/myenv/lib/python3.9/site-packages (from python-dateutil>=2.8.2->pandas) (1.16.0)\r\n"
     ]
    },
    {
     "name": "stdout",
     "output_type": "stream",
     "text": [
      "\r\n",
      "\u001b[1m[\u001b[0m\u001b[34;49mnotice\u001b[0m\u001b[1;39;49m]\u001b[0m\u001b[39;49m A new release of pip is available: \u001b[0m\u001b[31;49m23.0.1\u001b[0m\u001b[39;49m -> \u001b[0m\u001b[32;49m24.1.2\u001b[0m\r\n",
      "\u001b[1m[\u001b[0m\u001b[34;49mnotice\u001b[0m\u001b[1;39;49m]\u001b[0m\u001b[39;49m To update, run: \u001b[0m\u001b[32;49mpip install --upgrade pip\u001b[0m\r\n"
     ]
    },
    {
     "name": "stdout",
     "output_type": "stream",
     "text": [
      "Note: you may need to restart the kernel to use updated packages.\n"
     ]
    },
    {
     "name": "stdout",
     "output_type": "stream",
     "text": [
      "Looking in indexes: https://pypi.org/simple, https://pypi.ngc.nvidia.com\r\n",
      "Requirement already satisfied: dask in /Users/ana/Documents/Ocean/DataSharing/myenv/lib/python3.9/site-packages (2024.7.0)\r\n"
     ]
    },
    {
     "name": "stdout",
     "output_type": "stream",
     "text": [
      "Requirement already satisfied: fsspec>=2021.09.0 in /Users/ana/Documents/Ocean/DataSharing/myenv/lib/python3.9/site-packages (from dask) (2024.6.0)\r\n",
      "Requirement already satisfied: toolz>=0.10.0 in /Users/ana/Documents/Ocean/DataSharing/myenv/lib/python3.9/site-packages (from dask) (0.12.1)\r\n",
      "Requirement already satisfied: partd>=1.4.0 in /Users/ana/Documents/Ocean/DataSharing/myenv/lib/python3.9/site-packages (from dask) (1.4.2)\r\n",
      "Requirement already satisfied: importlib-metadata>=4.13.0 in /Users/ana/Documents/Ocean/DataSharing/myenv/lib/python3.9/site-packages (from dask) (7.2.1)\r\n",
      "Requirement already satisfied: click>=8.1 in /Users/ana/Documents/Ocean/DataSharing/myenv/lib/python3.9/site-packages (from dask) (8.1.7)\r\n",
      "Requirement already satisfied: cloudpickle>=1.5.0 in /Users/ana/Documents/Ocean/DataSharing/myenv/lib/python3.9/site-packages (from dask) (3.0.0)\r\n",
      "Requirement already satisfied: pyyaml>=5.3.1 in /Users/ana/Documents/Ocean/DataSharing/myenv/lib/python3.9/site-packages (from dask) (6.0.1)\r\n",
      "Requirement already satisfied: packaging>=20.0 in /Users/ana/Documents/Ocean/DataSharing/myenv/lib/python3.9/site-packages (from dask) (24.1)\r\n"
     ]
    },
    {
     "name": "stdout",
     "output_type": "stream",
     "text": [
      "Requirement already satisfied: zipp>=0.5 in /Users/ana/Documents/Ocean/DataSharing/myenv/lib/python3.9/site-packages (from importlib-metadata>=4.13.0->dask) (3.19.2)\r\n",
      "Requirement already satisfied: locket in /Users/ana/Documents/Ocean/DataSharing/myenv/lib/python3.9/site-packages (from partd>=1.4.0->dask) (1.0.0)\r\n"
     ]
    },
    {
     "name": "stdout",
     "output_type": "stream",
     "text": [
      "\r\n",
      "\u001b[1m[\u001b[0m\u001b[34;49mnotice\u001b[0m\u001b[1;39;49m]\u001b[0m\u001b[39;49m A new release of pip is available: \u001b[0m\u001b[31;49m23.0.1\u001b[0m\u001b[39;49m -> \u001b[0m\u001b[32;49m24.1.2\u001b[0m\r\n",
      "\u001b[1m[\u001b[0m\u001b[34;49mnotice\u001b[0m\u001b[1;39;49m]\u001b[0m\u001b[39;49m To update, run: \u001b[0m\u001b[32;49mpip install --upgrade pip\u001b[0m\r\n"
     ]
    },
    {
     "name": "stdout",
     "output_type": "stream",
     "text": [
      "Note: you may need to restart the kernel to use updated packages.\n"
     ]
    },
    {
     "name": "stderr",
     "output_type": "stream",
     "text": [
      "/Users/ana/Documents/Ocean/DataSharing/myenv/lib/python3.9/site-packages/dask/dataframe/__init__.py:42: FutureWarning: \n",
      "Dask dataframe query planning is disabled because dask-expr is not installed.\n",
      "\n",
      "You can install it with `pip install dask[dataframe]` or `conda install dask`.\n",
      "This will raise in a future version.\n",
      "\n",
      "  warnings.warn(msg, FutureWarning)\n"
     ]
    }
   ],
   "source": [
    "%pip install pandas\n",
    "%pip install dask\n",
    "\n",
    "import gc\n",
    "import pandas as pd\n",
    "import dask.dataframe as dd"
   ]
  },
  {
   "cell_type": "code",
   "execution_count": 2,
   "metadata": {
    "execution": {
     "iopub.execute_input": "2024-07-22T20:11:35.010013Z",
     "iopub.status.busy": "2024-07-22T20:11:35.009811Z",
     "iopub.status.idle": "2024-07-22T20:11:35.011751Z",
     "shell.execute_reply": "2024-07-22T20:11:35.011480Z"
    }
   },
   "outputs": [],
   "source": [
    "input_parquet_file_path = '../data/interm/2.0_taxdata.parquet'\n",
    "output_parquet_file_path = '../data/interm/2.1_taxdata.parquet'"
   ]
  },
  {
   "cell_type": "code",
   "execution_count": 3,
   "metadata": {
    "execution": {
     "iopub.execute_input": "2024-07-22T20:11:35.013206Z",
     "iopub.status.busy": "2024-07-22T20:11:35.013092Z",
     "iopub.status.idle": "2024-07-22T20:11:35.291732Z",
     "shell.execute_reply": "2024-07-22T20:11:35.291368Z"
    }
   },
   "outputs": [],
   "source": [
    "ddf = dd.read_parquet(input_parquet_file_path)"
   ]
  },
  {
   "cell_type": "markdown",
   "metadata": {},
   "source": [
    "# Correct the code INSEE field"
   ]
  },
  {
   "cell_type": "code",
   "execution_count": 4,
   "metadata": {
    "execution": {
     "iopub.execute_input": "2024-07-22T20:11:35.293688Z",
     "iopub.status.busy": "2024-07-22T20:11:35.293554Z",
     "iopub.status.idle": "2024-07-22T20:15:25.539779Z",
     "shell.execute_reply": "2024-07-22T20:15:25.538390Z"
    }
   },
   "outputs": [],
   "source": [
    "# Define the function to correct and validate INSEE codes\n",
    "def correct_insee_code(commune, department):\n",
    "    formatted_dept_code = department\n",
    "\n",
    "    try:\n",
    "        if len(department) == 1:\n",
    "            formatted_dept_code = \"0\" + department\n",
    "        \n",
    "        if len(department) == 3:\n",
    "            commune_code = f\"{int(commune):02d}\"\n",
    "            \n",
    "        else:\n",
    "            commune_code = f\"{int(commune):03d}\"\n",
    "\n",
    "    except ValueError:\n",
    "        commune_code = ''\n",
    "\n",
    "    return f\"{formatted_dept_code}{commune_code}\"\n",
    "\n",
    "def apply_corrections(row):\n",
    "    if pd.isna(row['COMMUNE']) or row['COMMUNE'] == '' or pd.isna(row['DEPARTEMENT']) or row['DEPARTEMENT'] == '':\n",
    "        return row['code INSEE']\n",
    "    \n",
    "    valid_code = correct_insee_code(row['COMMUNE'], row['DEPARTEMENT'])\n",
    "    return valid_code\n",
    "\n",
    "ddf['Clean code INSEE'] = ddf.map_partitions(lambda df: df.apply(apply_corrections, axis=1), meta=pd.Series(dtype='str'))\n",
    "\n",
    "# Compute the result\n",
    "result_df = ddf.compute()"
   ]
  },
  {
   "cell_type": "code",
   "execution_count": 5,
   "metadata": {
    "execution": {
     "iopub.execute_input": "2024-07-22T20:15:25.551708Z",
     "iopub.status.busy": "2024-07-22T20:15:25.551534Z",
     "iopub.status.idle": "2024-07-22T20:15:47.053230Z",
     "shell.execute_reply": "2024-07-22T20:15:47.052898Z"
    }
   },
   "outputs": [
    {
     "name": "stdout",
     "output_type": "stream",
     "text": [
      "Number of communes: 36760\n"
     ]
    },
    {
     "data": {
      "text/plain": [
       "0"
      ]
     },
     "execution_count": 5,
     "metadata": {},
     "output_type": "execute_result"
    }
   ],
   "source": [
    "# Save the processed data back to a Parquet file\n",
    "result_df.to_parquet(output_parquet_file_path)\n",
    "\n",
    "num_unique_clean_code_insee = result_df['Clean code INSEE'].nunique()\n",
    "print(f'Number of communes: {num_unique_clean_code_insee}')\n",
    "\n",
    "del ddf\n",
    "del result_df\n",
    "gc.collect()"
   ]
  }
 ],
 "metadata": {
  "kernelspec": {
   "display_name": "myenv",
   "language": "python",
   "name": "python3"
  },
  "language_info": {
   "codemirror_mode": {
    "name": "ipython",
    "version": 3
   },
   "file_extension": ".py",
   "mimetype": "text/x-python",
   "name": "python",
   "nbconvert_exporter": "python",
   "pygments_lexer": "ipython3",
   "version": "3.9.18"
  }
 },
 "nbformat": 4,
 "nbformat_minor": 2
}
