{
 "cells": [
  {
   "cell_type": "code",
   "execution_count": 1,
   "metadata": {
    "execution": {
     "iopub.execute_input": "2024-07-22T20:40:10.181687Z",
     "iopub.status.busy": "2024-07-22T20:40:10.181577Z",
     "iopub.status.idle": "2024-07-22T20:40:14.939951Z",
     "shell.execute_reply": "2024-07-22T20:40:14.939623Z"
    }
   },
   "outputs": [
    {
     "name": "stdout",
     "output_type": "stream",
     "text": [
      "Looking in indexes: https://pypi.org/simple, https://pypi.ngc.nvidia.com\r\n",
      "Requirement already satisfied: openpyxl in /Users/ana/Documents/Ocean/DataSharing/myenv/lib/python3.9/site-packages (3.1.4)\r\n",
      "Requirement already satisfied: et-xmlfile in /Users/ana/Documents/Ocean/DataSharing/myenv/lib/python3.9/site-packages (from openpyxl) (1.1.0)\r\n"
     ]
    },
    {
     "name": "stdout",
     "output_type": "stream",
     "text": [
      "\r\n",
      "\u001b[1m[\u001b[0m\u001b[34;49mnotice\u001b[0m\u001b[1;39;49m]\u001b[0m\u001b[39;49m A new release of pip is available: \u001b[0m\u001b[31;49m23.0.1\u001b[0m\u001b[39;49m -> \u001b[0m\u001b[32;49m24.1.2\u001b[0m\r\n",
      "\u001b[1m[\u001b[0m\u001b[34;49mnotice\u001b[0m\u001b[1;39;49m]\u001b[0m\u001b[39;49m To update, run: \u001b[0m\u001b[32;49mpip install --upgrade pip\u001b[0m\r\n"
     ]
    },
    {
     "name": "stdout",
     "output_type": "stream",
     "text": [
      "Note: you may need to restart the kernel to use updated packages.\n"
     ]
    },
    {
     "name": "stdout",
     "output_type": "stream",
     "text": [
      "Looking in indexes: https://pypi.org/simple, https://pypi.ngc.nvidia.com\r\n",
      "Requirement already satisfied: pandas in /Users/ana/Documents/Ocean/DataSharing/myenv/lib/python3.9/site-packages (2.2.2)\r\n",
      "Requirement already satisfied: pytz>=2020.1 in /Users/ana/Documents/Ocean/DataSharing/myenv/lib/python3.9/site-packages (from pandas) (2024.1)\r\n"
     ]
    },
    {
     "name": "stdout",
     "output_type": "stream",
     "text": [
      "Requirement already satisfied: numpy>=1.22.4 in /Users/ana/Documents/Ocean/DataSharing/myenv/lib/python3.9/site-packages (from pandas) (1.26.4)\r\n",
      "Requirement already satisfied: tzdata>=2022.7 in /Users/ana/Documents/Ocean/DataSharing/myenv/lib/python3.9/site-packages (from pandas) (2024.1)\r\n",
      "Requirement already satisfied: python-dateutil>=2.8.2 in /Users/ana/Documents/Ocean/DataSharing/myenv/lib/python3.9/site-packages (from pandas) (2.9.0.post0)\r\n",
      "Requirement already satisfied: six>=1.5 in /Users/ana/Documents/Ocean/DataSharing/myenv/lib/python3.9/site-packages (from python-dateutil>=2.8.2->pandas) (1.16.0)\r\n"
     ]
    },
    {
     "name": "stdout",
     "output_type": "stream",
     "text": [
      "\r\n",
      "\u001b[1m[\u001b[0m\u001b[34;49mnotice\u001b[0m\u001b[1;39;49m]\u001b[0m\u001b[39;49m A new release of pip is available: \u001b[0m\u001b[31;49m23.0.1\u001b[0m\u001b[39;49m -> \u001b[0m\u001b[32;49m24.1.2\u001b[0m\r\n",
      "\u001b[1m[\u001b[0m\u001b[34;49mnotice\u001b[0m\u001b[1;39;49m]\u001b[0m\u001b[39;49m To update, run: \u001b[0m\u001b[32;49mpip install --upgrade pip\u001b[0m\r\n"
     ]
    },
    {
     "name": "stdout",
     "output_type": "stream",
     "text": [
      "Note: you may need to restart the kernel to use updated packages.\n"
     ]
    }
   ],
   "source": [
    "%pip install openpyxl\n",
    "%pip install pandas \n",
    "\n",
    "import gc\n",
    "from enum import Enum\n",
    "import pandas as pd"
   ]
  },
  {
   "cell_type": "code",
   "execution_count": 2,
   "metadata": {
    "execution": {
     "iopub.execute_input": "2024-07-22T20:40:14.941799Z",
     "iopub.status.busy": "2024-07-22T20:40:14.941652Z",
     "iopub.status.idle": "2024-07-22T20:40:14.943725Z",
     "shell.execute_reply": "2024-07-22T20:40:14.943452Z"
    }
   },
   "outputs": [],
   "source": [
    "input_columns_file_path = '../data/columns.xlsx'\n",
    "\n",
    "output_columns_file_path = '../data/interm/3.0_columns.csv'\n",
    "output_revenue_taxes_file_path = '../data/interm/3.0_all_taxes.csv'"
   ]
  },
  {
   "cell_type": "markdown",
   "metadata": {},
   "source": [
    "# Extract tax columns that represent commune, syndicate, department, region & state revenues"
   ]
  },
  {
   "cell_type": "code",
   "execution_count": 3,
   "metadata": {
    "execution": {
     "iopub.execute_input": "2024-07-22T20:40:14.945278Z",
     "iopub.status.busy": "2024-07-22T20:40:14.945129Z",
     "iopub.status.idle": "2024-07-22T20:40:14.953734Z",
     "shell.execute_reply": "2024-07-22T20:40:14.953423Z"
    }
   },
   "outputs": [
    {
     "name": "stdout",
     "output_type": "stream",
     "text": [
      "The number of the commune revenue columns is = 24\n",
      "The number of the syndicat revenue columns is = 10\n",
      "The number of the intercommune revenue columns is = 34\n",
      "The number of the department revenue columns is = 10\n",
      "The number of the region revenue columns is = 8\n",
      "The number of the MGP revenue columns is = 4\n",
      "The number of the state revenue columns is = 2\n",
      "The number of the other revenue columns is = 2\n",
      "Total number of tax revenue columns is = 94\n"
     ]
    }
   ],
   "source": [
    "TAX_CATEGORY_CODES = [\n",
    "    'TFPNB',  # Taxe Foncière sur les Propriétés Non Bâties - Property Tax on Unbuilt Land\n",
    "    'TFPB',   # Taxe Foncière sur les Propriétés Bâties - Property Tax on Built Land\n",
    "    'TAFB',   # Taxe Additionnelle à la Taxe Foncière sur les Propriétés Bâties - Additional Tax on Property Tax for Built Land\n",
    "    'TASARIF', # Taxe Additionnelle à la Taxe Foncière sur les Propriétés Non Bâties - Additional Tax on Property Tax for Unbuilt Land\n",
    "    'TAFNB',  # Taxe Additionnelle à la Taxe Foncière sur les Propriétés Non Bâties - Additional Tax on Property Tax for Unbuilt Land\n",
    "    'CFE',    # Cotisation Foncière des Entreprises - Business Property Tax\n",
    "    'CVAE',   # Cotisation sur la Valeur Ajoutée des Entreprises - Corporate Value Added Contribution\n",
    "    'TSE',    # Taxe sur les Salaires - Payroll Tax\n",
    "    'IFER',   # Imposition Forfaitaire sur les Entreprises de Réseaux - Flat-Rate Tax on Network Companies\n",
    "    'TASCOM', # Taxe sur les Surfaces Commerciales - Tax on Commercial Surfaces\n",
    "    'GEMAPI', # Gestion des Milieux Aquatiques et Prévention des Inondations - Management of Aquatic Environments and Flood Prevention\n",
    "    'FB',     # Foncier Bâti - Property Tax on Built Land\n",
    "    'TP',     # Taxe Professionnelle - Professional Tax    \n",
    "    'TF',     # Taxe Foncière - Property Tax\n",
    "    'TH',     # Taxe d'Habitation - Residence Tax,\n",
    "    'FNB',    # Foncier Non Bâti - Property Tax on Undeveloped Land\n",
    "    'BASE NETTE IMPOSEE', # Taxable or relieved net base for secondary residences\n",
    "    'TEOM'   # Taxe d'Enlèvement des Ordures Ménagères - Household Waste Collection Tax\n",
    "]\n",
    "\n",
    "COMMUNE_REVENUE_COLUMNS = [\n",
    "    # General taxes\n",
    "    'FB - COMMUNE / MONTANT REEL',\n",
    "    'FNB - COMMUNE / MONTANT REEL',\n",
    "    'IFER TOTALE / COMMUNE',\n",
    "    'TH - COMMUNE / MONTANT REEL COMMUNAL AU PROFIT DE LA COMMUNE',\n",
    "    'TAFNB - COMMUNE / MONTANT REEL NET',\n",
    "    'TASCOM au profit de la commune',\n",
    "\n",
    "    # Taxe Professionnelle - Professional Tax\n",
    "    'CFE - COMMUNE / PRODUIT REEL NET', # It indicates the actual net revenue from CFE that has been issued to the municipality. It directly reflects the financial inflow from this tax to the commune's budget.\n",
    "    'CFE - TSE / PRODUIT REEL NET',\n",
    "    'Part de CVAE au profit de la commune', #  Represents the actual portion of CVAE revenue allocated to the commune. This is a real figure indicating what the commune receives.\n",
    "    'Part de CVAE dégrevée au profit de la commune', # The amount of CVAE that has been rebated back to the commune, reflecting a real adjustment in the financial records.\n",
    "    'Part de CVAE exonérée compensée au profit de la commune', # Indicates the amount of CVAE that is exempt but compensated to the commune by other means (possibly state or higher administrative bodies), showing a tangible impact on the commune's finances. \n",
    "    \n",
    "    # Extra/specific taxes \n",
    "    'FB - TSE / MONTANT REEL', \n",
    "    'FNB - TSE / MONTANT REEL',\n",
    "    'TH - TSE / MONTANT REEL',\n",
    "    'IFER EOLIENNES ART 1519 D DU CGI / COMMUNE / MONTANT',\n",
    "    'IFER HYDROLIENNES ART 1519 D DU CGI / COMMUNE / MONTANT',\n",
    "    'IFER CENTRALES NUCLEAIRES OU THERMIQUES A FLAMME ART 1519 E DU CGI / COMMUNE / MONTANT',\n",
    "    'IFER CENTRALES PHOTOVOLTAIQUES ART 1519 F DU CGI / COMMUNE / MONTANT',\n",
    "    'IFER BARRAGES HYDRAULIQUES ART 1519 F DU CGI / COMMUNE / MONTANT',\n",
    "    'IFER TRANSFORMATEURS ELECTRIQUES ART 1519 G DU CGI / COMMUNE / MONTANT',\n",
    "    'IFER STATIONS RADIOELECTRIQUES ART 1519 H DU CGI / COMMUNE / MONTANT',\n",
    "    'IFER INSTALLATIONS DE GAZ NATUREL ART 1519HA DU CGI / COMMUNE / MONTANT',\n",
    "    'IFER GEOTHERMIE (Art 1519 HB) DU CGI / COMMUNE / MONTANT',\n",
    "    'TH - MONTANT REEL DE LA MAJORATION DES RESIDENCES SECONDAIRES',\n",
    "]\n",
    "\n",
    "SYNDICAT_REVENUE_COLUMNS = [\n",
    "    'FNB - SYNDICATS ET ORG.ASSIMILES /  MONTANT REEL',\n",
    "    'FB - SYNDICATS ET ORG. ASSIMILES /  MONTANT REEL',\n",
    "    'FB - SYNDICATS ET ORG. ASSIMILES /  MONTANT LISSAGE',\n",
    "    'FB - TAXE INCITATIVE ENLEVEMENT DES ORDURES MENAGERES / MONTANT REEL / SYNDICAT',\n",
    "    'TF - MONTANT DES DO JEUNES AGRICULTEURS - Syndicats (COLLECTIVITES)',\n",
    "    'TH - SYNDICATS ET ORG. ASSIMILES /  MONTANT REEL',\n",
    "    'TH - SYNDICATS ET ORG. ASSIMILES /  MONTANT LISSAGE',\n",
    "    'CFE - LISSAGE / SYNDICATS / MONTANT',\n",
    "    'TH - SYNDICATS ET ORG. ASSIMILES /  PRODUIT REEL DES LOCAUX VACANTS',\n",
    "    'CFE - SYNDICATS ET ORG. ASSIMILES /  PRODUIT REEL NET',\n",
    "]\n",
    "\n",
    "INTERCOMMUNE_REVENUE_COLUMNS = [\n",
    "    'CFE - INTERCOMMUNALITE / PRODUIT REEL NET / FISCALITE ADDITIONNELLE OU FP DE ZONE (HORS ZONE)',\n",
    "    'CFE - INTERCOMMUNALITE / PRODUIT REEL NET / FP UNIQUE OU EN ZAE',\n",
    "    'CFE - INTERCOMMUNALITE / PRODUIT REEL NET / FP UNIQUE',\n",
    "    'CFE - INTERCOMMUNALITE / PRODUIT REEL NET / FPZ EN ZAE',\n",
    "    'CFE - INTERCOMMUNALITE / PRODUIT REEL NET / FPE EN ZONE EOLIENNE',\n",
    "    'CFE - GEMAPI / PRODUIT REEL NET INTERCOMMUNAL / FISCALITE ADDITIONNELLE',\n",
    "    'CFE - GEMAPI / PRODUIT REEL NET INTERCOMMUNAL / FP UNIQUE OU EN ZAE',\n",
    "    'CFE - GEMAPI / PRODUIT REEL NET INTERCOMMUNAL / FP UNIQUE',\n",
    "    'CFE - GEMAPI / PRODUIT REEL NET INTERCOMMUNAL / FPZ EN ZAE',\n",
    "    'CFE - GEMAPI / PRODUIT REEL NET INTERCOMMUNAL / FPE EN ZONE EOLIENNE',\n",
    "\n",
    "    'FB - GFP / MONTANT REEL',\n",
    "    'FB - GEMAPI / MONTANT REEL INTERCOMMUNALITE',\n",
    "    'FNB - GEMAPI / MONTANT REEL INTERCOMMUNALITE',\n",
    "    'FNB - GFP / MONTANT REEL',\n",
    "\n",
    "    'IFER TOTALE / INTERCOMMUNALITE',\n",
    "    'IFER EOLIENNES ART 1519 D DU CGI / EPCI A FISCALITE ADDITIONNELLE / MONTANT',\n",
    "    'IFER EOLIENNES ART 1519 D DU CGI / EPCI A FISCALITE UNIQUE OU ZAE / MONTANT',\n",
    "    'IFER EOLIENNES ART 1519 D DU CGI / EPCI A REGIME EOLIEN / MONTANT',\n",
    "    'IFER HYDROLIENNES ART 1519 D DU CGI / EPCI A FISCALITE UNIQUE OU ZAE / MONTANT',\n",
    "    'IFER HYDROLIENNES ART 1519 D DU CGI / EPCI A REGIME EOLIEN / MONTANT',\n",
    "    'IFER CENTRALES NUCLEAIRES OU THERMIQUES A FLAMME ART 1519 E DU CGI / EPCI A FISCALITE UNIQUE OU ZAE / MONTANT',\n",
    "    'IFER CENTRALES PHOTOVOLTAIQUES ART 1519 F DU CGI / EPCI A FISCALITE UNIQUE OU ZAE / MONTANT',\n",
    "    'IFER BARRAGES HYDRAULIQUES ART 1519 F DU CGI / EPCI A FISCALITE UNIQUE OU ZAE / MONTANT',\n",
    "    'IFER TRANSFORMATEURS ELECTRIQUES ART 1519 G DU CGI / EPCI A FISCALITE UNIQUE OU ZAE / MONTANT',\n",
    "    'IFER STATIONS RADIOELECTRIQUES ART 1519 H DU CGI / EPCI A FISCALITE UNIQUE OU ZAE / MONTANT',\n",
    "    'IFER INSTALLATIONS DE GAZ NATUREL ART 1519HA DU CGI / EPCI A FISCALITE ADDITIONNELLE / MONTANT',\n",
    "    'IFER INSTALLATIONS DE GAZ NATUREL ART 1519HA DU CGI / EPCI A FISCALITE UNIQUE OU ZAE / MONTANT',\n",
    "\n",
    "    'Part de CVAE au profit du GFP',\n",
    "\n",
    "    'TH - INTERCOMMUNALITE / MONTANT REEL DONT THP/E AU PROFIT DE L ETAT',\n",
    "    'TH - INTERCOMMUNALITE / MONTANT REEL INTERCOMMUNALITE DE THP/E AU PROFIT DE L ETAT',\n",
    "    'TH - INTERCOMMUNALITE / MONTANT REEL INTERCOMMUNALITE AU PROFIT DU GROUPEMENT',\n",
    "    'TH - MONTANT REEL INTERCOMMUNAL TAXE GEMAPI',\n",
    "    'TH - MONTANT NET INTERCOMMUNAL DES LOGEMENTS VACANTS TAXE GEMAPI',\n",
    "    \n",
    "    'TASCOM au profit du GFP',\n",
    "]\n",
    "\n",
    "DEPARTMENT_REVENUE_COLUMNS = [\n",
    "    'FNB - CHAMBRE D\\'AGRICULTURE / MONTANT REEL',\n",
    "\n",
    "    'IFER EOLIENNES ART 1519 D DU CGI / DEPARTEMENT / MONTANT',\n",
    "    'IFER HYDROLIENNES ART 1519 D DU CGI / DEPARTEMENT / MONTANT',\n",
    "    'IFER CENTRALES NUCLEAIRES OU THERMIQUES A FLAMME ART 1519 E DU CGI / DEPARTEMENT / MONTANT',\n",
    "    'IFER CENTRALES PHOTOVOLTAIQUES ART 1519 F DU CGI / DEPARTEMENT / MONTANT',\n",
    "    'IFER BARRAGES HYDRAULIQUES ART 1519 F DU CGI / DEPARTEMENT / MONTANT',\n",
    "    'IFER INSTALLATIONS DE GAZ NATUREL ART 1519HA DU CGI / DEPARTEMENT / MONTANT',\n",
    "    'IFER STATIONS RADIOELECTRIQUES ART 1519 H DU CGI / DEPARTEMENT / MONTANT',\n",
    "    'IFER TOTALE / DEPARTEMENT',\n",
    "\n",
    "    'Part de CVAE au profit du département'\n",
    "]\n",
    "\n",
    "REGION_REVENUE_COLUMNS = [\n",
    "    'CFE - TASA / PRODUIT REEL NET', # TSE taxable base for CFE on the territory of the municipality. A special annual additional tax is levied for the benefit of the Ile-de-France region. Proceeds are allocated to the investment section of the region's budget. The tax base is determined under the same conditions as for the main tax, to which the additional tax is added.\n",
    "    'CFE - CHAMBRE DE COMMERCE ET INDUSTRIE /  PRODUIT REEL NET',\n",
    "    'CFE - CHAMBRE DES METIERS /  DROIT ADDITIONNEL / PRODUIT NET',\n",
    "\n",
    "    'Part de CVAE au profit de la région',\n",
    "\n",
    "    'IFER TOTALE / REGION',\n",
    "    'IFER GEOTHERMIE (Art 1519 HB) DU CGI / REGION / MONTANT',\n",
    "    'IFER MATERIEL ROULANT FERROVIAIRE ART 1599 QUATER A DU CGI / REGION / MONTANT DECLARE PAR LES SOCIETES DE TRANSPORT FERROVIAIRE NATIONAL',\n",
    "    'IFER REPARTITEURS PRINCIPAUX ART 1599 QUATER B DU CGI / REGION / MONTANT'\n",
    "]\n",
    "\n",
    "MGP_REVENUE_COLUMNS = [\n",
    "    'FB - TSE AUTRES / MONTANT REEL NET',\n",
    "    'FNB - TSE GRAND PARIS OU EPFL GUADELOUPE OU EPFL MARTINIQUE / MONTANT REEL',\n",
    "    'IFER MATERIEL ROULANT RATP ART 1599 QUATER A BIS DU CGI / GRAND PARIS / MONTANT',\n",
    "    'TH - TSE GRAND PARIS OU EPFL GUADELOUPE OU EPFL MARTINIQUE / MONTANT REEL',\n",
    "]\n",
    "\n",
    "STATE_REVENUE_COLUMNS = [\n",
    "    'TH - COMMUNE / MONTANT REEL DONT THP/E AU PROFIT DE L ETAT',\n",
    "    'TH - COMMUNE / MONTANT REEL COMMUNAL DE THP/E AU PROFIT DE L ETAT'\n",
    "]\n",
    "\n",
    "OTHER_REVENUE_COLUMNS = [\n",
    "    'FNB - CAAA / DROIT FIXE - MONTANT REEL', # The tax for the benefit of the Caisse d'Assurance Accidents Agricoles (CAAA) is levied only in the Moselle\n",
    "    'FNB - CAAA / DROIT PROPORTIONNEL -  MONTANT REEL'\n",
    "]\n",
    "\n",
    "class RevenueCollector(Enum):\n",
    "    COMMUNE = \"COMMUNE\"\n",
    "    SYNDICAT = \"SYNDICAT\"\n",
    "    INTERCOMMUNE = \"INTERCOMMUNE\"\n",
    "    DEPARTMENT = \"DEPARTMENT\"\n",
    "    REGION = \"REGION\"\n",
    "    MGP = \"MGP\"\n",
    "    STATE = \"STATE\"\n",
    "    OTHER = \"OTHER\"\n",
    "    UNAVAILABLE=\"UNAVAILABLE\"\n",
    "\n",
    "all_revenue_columns = (\n",
    "    COMMUNE_REVENUE_COLUMNS +\n",
    "    SYNDICAT_REVENUE_COLUMNS +\n",
    "    INTERCOMMUNE_REVENUE_COLUMNS +\n",
    "    DEPARTMENT_REVENUE_COLUMNS +\n",
    "    REGION_REVENUE_COLUMNS +\n",
    "    MGP_REVENUE_COLUMNS +\n",
    "    STATE_REVENUE_COLUMNS +\n",
    "    OTHER_REVENUE_COLUMNS\n",
    ")\n",
    "\n",
    "print(\"The number of the commune revenue columns is =\", len(COMMUNE_REVENUE_COLUMNS))\n",
    "print(\"The number of the syndicat revenue columns is =\", len(SYNDICAT_REVENUE_COLUMNS))\n",
    "print(\"The number of the intercommune revenue columns is =\", len(INTERCOMMUNE_REVENUE_COLUMNS))\n",
    "print(\"The number of the department revenue columns is =\", len(DEPARTMENT_REVENUE_COLUMNS))\n",
    "print(\"The number of the region revenue columns is =\", len(REGION_REVENUE_COLUMNS))\n",
    "print(\"The number of the MGP revenue columns is =\", len(MGP_REVENUE_COLUMNS))\n",
    "print(\"The number of the state revenue columns is =\", len(STATE_REVENUE_COLUMNS))\n",
    "print(\"The number of the other revenue columns is =\", len(OTHER_REVENUE_COLUMNS))\n",
    "print(\"Total number of tax revenue columns is =\", len(all_revenue_columns))"
   ]
  },
  {
   "cell_type": "code",
   "execution_count": 4,
   "metadata": {
    "execution": {
     "iopub.execute_input": "2024-07-22T20:40:14.955425Z",
     "iopub.status.busy": "2024-07-22T20:40:14.955264Z",
     "iopub.status.idle": "2024-07-22T20:40:15.154624Z",
     "shell.execute_reply": "2024-07-22T20:40:15.154204Z"
    }
   },
   "outputs": [],
   "source": [
    "df = pd.read_excel(input_columns_file_path)\n",
    "\n",
    "# Add the new columns\n",
    "df['DATA_TYPE'] = ''\n",
    "df['TAX_CATEGORY'] = ''\n",
    "df['REVENUE_COLLECTOR'] = ''\n",
    "\n",
    "# Reorder the columns\n",
    "new_column_order = [\n",
    "    'TITRE', 'DATA_TYPE', 'TAX_CATEGORY', 'REVENUE_COLLECTOR', 'ENGLISH_DESCRIPTION',\n",
    "    'NUMERO_DE_VARIABLE', 'NOM_DE_VARIABLE', 'LONGUEUR', 'FORMAT', 'POSITION_DE_DEBUT', 'POSITION_DE_FIN', 'OBSERVATIONS'\n",
    "]\n",
    "\n",
    "df = df[new_column_order]\n"
   ]
  },
  {
   "cell_type": "markdown",
   "metadata": {},
   "source": [
    "# Determine the revenue collector for each of the selected taxes"
   ]
  },
  {
   "cell_type": "code",
   "execution_count": 5,
   "metadata": {
    "execution": {
     "iopub.execute_input": "2024-07-22T20:40:15.156803Z",
     "iopub.status.busy": "2024-07-22T20:40:15.156676Z",
     "iopub.status.idle": "2024-07-22T20:40:15.204882Z",
     "shell.execute_reply": "2024-07-22T20:40:15.204599Z"
    }
   },
   "outputs": [],
   "source": [
    "def determine_revenue_collector(column):\n",
    "    revenue_collector = RevenueCollector.UNAVAILABLE\n",
    "\n",
    "    if column in COMMUNE_REVENUE_COLUMNS:\n",
    "        revenue_collector = RevenueCollector.COMMUNE\n",
    "    if column in SYNDICAT_REVENUE_COLUMNS:\n",
    "        revenue_collector = RevenueCollector.SYNDICAT\n",
    "    elif column in INTERCOMMUNE_REVENUE_COLUMNS:\n",
    "        revenue_collector = RevenueCollector.INTERCOMMUNE\n",
    "    elif column in DEPARTMENT_REVENUE_COLUMNS:\n",
    "        revenue_collector = RevenueCollector.DEPARTMENT\n",
    "    elif column in REGION_REVENUE_COLUMNS:\n",
    "        revenue_collector = RevenueCollector.REGION\n",
    "    elif column in MGP_REVENUE_COLUMNS:\n",
    "        revenue_collector = RevenueCollector.MGP\n",
    "    elif column in STATE_REVENUE_COLUMNS:\n",
    "        revenue_collector = RevenueCollector.STATE\n",
    "    elif column in OTHER_REVENUE_COLUMNS:\n",
    "        revenue_collector = RevenueCollector.OTHER\n",
    "    return revenue_collector.value\n",
    "    \n",
    "def extract_additional_info(titre):\n",
    "    data_type = 'UNKNOWN'\n",
    "    tax_category = 'UNKNOWN'\n",
    "    revenue_collector = RevenueCollector.UNAVAILABLE.value\n",
    "\n",
    "    for category in TAX_CATEGORY_CODES:\n",
    "        if category in titre:  # Case-insensitive comparison\n",
    "            data_type = 'TAX'\n",
    "            tax_category = category\n",
    "            revenue_collector = determine_revenue_collector(titre)\n",
    "       \n",
    "\n",
    "    return data_type, tax_category, revenue_collector\n",
    "\n",
    "for index, row in df.iterrows():\n",
    "    titre = row['TITRE']\n",
    "    data_type, tax_category, revenue_collector = extract_additional_info(titre)\n",
    "\n",
    "    df.at[index, 'DATA_TYPE'] = data_type\n",
    "    df.at[index, 'TAX_CATEGORY'] = tax_category\n",
    "    df.at[index, 'REVENUE_COLLECTOR'] = revenue_collector"
   ]
  },
  {
   "cell_type": "code",
   "execution_count": 6,
   "metadata": {
    "execution": {
     "iopub.execute_input": "2024-07-22T20:40:15.206342Z",
     "iopub.status.busy": "2024-07-22T20:40:15.206251Z",
     "iopub.status.idle": "2024-07-22T20:40:15.212295Z",
     "shell.execute_reply": "2024-07-22T20:40:15.212038Z"
    }
   },
   "outputs": [],
   "source": [
    "all_taxes_df = pd.DataFrame(all_revenue_columns, columns=['TITRE'])\n",
    "all_taxes_df.to_csv(output_revenue_taxes_file_path, index = False)"
   ]
  },
  {
   "cell_type": "code",
   "execution_count": 7,
   "metadata": {
    "execution": {
     "iopub.execute_input": "2024-07-22T20:40:15.213806Z",
     "iopub.status.busy": "2024-07-22T20:40:15.213716Z",
     "iopub.status.idle": "2024-07-22T20:40:15.242915Z",
     "shell.execute_reply": "2024-07-22T20:40:15.242623Z"
    }
   },
   "outputs": [
    {
     "data": {
      "text/plain": [
       "138"
      ]
     },
     "execution_count": 7,
     "metadata": {},
     "output_type": "execute_result"
    }
   ],
   "source": [
    "df.to_csv(output_columns_file_path, index= False)\n",
    "\n",
    "del df\n",
    "del all_taxes_df\n",
    "gc.collect()"
   ]
  }
 ],
 "metadata": {
  "kernelspec": {
   "display_name": "myenv",
   "language": "python",
   "name": "python3"
  },
  "language_info": {
   "codemirror_mode": {
    "name": "ipython",
    "version": 3
   },
   "file_extension": ".py",
   "mimetype": "text/x-python",
   "name": "python",
   "nbconvert_exporter": "python",
   "pygments_lexer": "ipython3",
   "version": "3.9.18"
  }
 },
 "nbformat": 4,
 "nbformat_minor": 2
}
