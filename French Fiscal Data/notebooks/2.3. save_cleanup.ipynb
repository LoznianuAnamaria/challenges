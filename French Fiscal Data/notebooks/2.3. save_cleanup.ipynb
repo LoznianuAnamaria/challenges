{
 "cells": [
  {
   "cell_type": "code",
   "execution_count": 1,
   "metadata": {
    "execution": {
     "iopub.execute_input": "2024-07-22T20:38:31.309719Z",
     "iopub.status.busy": "2024-07-22T20:38:31.309583Z",
     "iopub.status.idle": "2024-07-22T20:38:36.066843Z",
     "shell.execute_reply": "2024-07-22T20:38:36.066541Z"
    }
   },
   "outputs": [
    {
     "name": "stdout",
     "output_type": "stream",
     "text": [
      "Looking in indexes: https://pypi.org/simple, https://pypi.ngc.nvidia.com\r\n",
      "Requirement already satisfied: pandas in /Users/ana/Documents/Ocean/DataSharing/myenv/lib/python3.9/site-packages (2.2.2)\r\n"
     ]
    },
    {
     "name": "stdout",
     "output_type": "stream",
     "text": [
      "Requirement already satisfied: python-dateutil>=2.8.2 in /Users/ana/Documents/Ocean/DataSharing/myenv/lib/python3.9/site-packages (from pandas) (2.9.0.post0)\r\n",
      "Requirement already satisfied: numpy>=1.22.4 in /Users/ana/Documents/Ocean/DataSharing/myenv/lib/python3.9/site-packages (from pandas) (1.26.4)\r\n",
      "Requirement already satisfied: pytz>=2020.1 in /Users/ana/Documents/Ocean/DataSharing/myenv/lib/python3.9/site-packages (from pandas) (2024.1)\r\n",
      "Requirement already satisfied: tzdata>=2022.7 in /Users/ana/Documents/Ocean/DataSharing/myenv/lib/python3.9/site-packages (from pandas) (2024.1)\r\n",
      "Requirement already satisfied: six>=1.5 in /Users/ana/Documents/Ocean/DataSharing/myenv/lib/python3.9/site-packages (from python-dateutil>=2.8.2->pandas) (1.16.0)\r\n"
     ]
    },
    {
     "name": "stdout",
     "output_type": "stream",
     "text": [
      "\r\n",
      "\u001b[1m[\u001b[0m\u001b[34;49mnotice\u001b[0m\u001b[1;39;49m]\u001b[0m\u001b[39;49m A new release of pip is available: \u001b[0m\u001b[31;49m23.0.1\u001b[0m\u001b[39;49m -> \u001b[0m\u001b[32;49m24.1.2\u001b[0m\r\n",
      "\u001b[1m[\u001b[0m\u001b[34;49mnotice\u001b[0m\u001b[1;39;49m]\u001b[0m\u001b[39;49m To update, run: \u001b[0m\u001b[32;49mpip install --upgrade pip\u001b[0m\r\n"
     ]
    },
    {
     "name": "stdout",
     "output_type": "stream",
     "text": [
      "Note: you may need to restart the kernel to use updated packages.\n"
     ]
    },
    {
     "name": "stdout",
     "output_type": "stream",
     "text": [
      "Looking in indexes: https://pypi.org/simple, https://pypi.ngc.nvidia.com\r\n",
      "Requirement already satisfied: matplotlib in /Users/ana/Documents/Ocean/DataSharing/myenv/lib/python3.9/site-packages (3.9.0)\r\n",
      "Requirement already satisfied: cycler>=0.10 in /Users/ana/Documents/Ocean/DataSharing/myenv/lib/python3.9/site-packages (from matplotlib) (0.12.1)\r\n",
      "Requirement already satisfied: contourpy>=1.0.1 in /Users/ana/Documents/Ocean/DataSharing/myenv/lib/python3.9/site-packages (from matplotlib) (1.2.1)\r\n",
      "Requirement already satisfied: pyparsing>=2.3.1 in /Users/ana/Documents/Ocean/DataSharing/myenv/lib/python3.9/site-packages (from matplotlib) (3.1.2)\r\n",
      "Requirement already satisfied: kiwisolver>=1.3.1 in /Users/ana/Documents/Ocean/DataSharing/myenv/lib/python3.9/site-packages (from matplotlib) (1.4.5)\r\n",
      "Requirement already satisfied: packaging>=20.0 in /Users/ana/Documents/Ocean/DataSharing/myenv/lib/python3.9/site-packages (from matplotlib) (24.1)\r\n",
      "Requirement already satisfied: fonttools>=4.22.0 in /Users/ana/Documents/Ocean/DataSharing/myenv/lib/python3.9/site-packages (from matplotlib) (4.53.0)\r\n",
      "Requirement already satisfied: pillow>=8 in /Users/ana/Documents/Ocean/DataSharing/myenv/lib/python3.9/site-packages (from matplotlib) (10.3.0)\r\n",
      "Requirement already satisfied: importlib-resources>=3.2.0 in /Users/ana/Documents/Ocean/DataSharing/myenv/lib/python3.9/site-packages (from matplotlib) (6.4.0)\r\n",
      "Requirement already satisfied: python-dateutil>=2.7 in /Users/ana/Documents/Ocean/DataSharing/myenv/lib/python3.9/site-packages (from matplotlib) (2.9.0.post0)\r\n",
      "Requirement already satisfied: numpy>=1.23 in /Users/ana/Documents/Ocean/DataSharing/myenv/lib/python3.9/site-packages (from matplotlib) (1.26.4)\r\n"
     ]
    },
    {
     "name": "stdout",
     "output_type": "stream",
     "text": [
      "Requirement already satisfied: zipp>=3.1.0 in /Users/ana/Documents/Ocean/DataSharing/myenv/lib/python3.9/site-packages (from importlib-resources>=3.2.0->matplotlib) (3.19.2)\r\n",
      "Requirement already satisfied: six>=1.5 in /Users/ana/Documents/Ocean/DataSharing/myenv/lib/python3.9/site-packages (from python-dateutil>=2.7->matplotlib) (1.16.0)\r\n"
     ]
    },
    {
     "name": "stdout",
     "output_type": "stream",
     "text": [
      "\r\n",
      "\u001b[1m[\u001b[0m\u001b[34;49mnotice\u001b[0m\u001b[1;39;49m]\u001b[0m\u001b[39;49m A new release of pip is available: \u001b[0m\u001b[31;49m23.0.1\u001b[0m\u001b[39;49m -> \u001b[0m\u001b[32;49m24.1.2\u001b[0m\r\n",
      "\u001b[1m[\u001b[0m\u001b[34;49mnotice\u001b[0m\u001b[1;39;49m]\u001b[0m\u001b[39;49m To update, run: \u001b[0m\u001b[32;49mpip install --upgrade pip\u001b[0m\r\n"
     ]
    },
    {
     "name": "stdout",
     "output_type": "stream",
     "text": [
      "Note: you may need to restart the kernel to use updated packages.\n"
     ]
    }
   ],
   "source": [
    "%pip install pandas\n",
    "%pip install matplotlib\n",
    "\n",
    "import gc\n",
    "import pandas as pd\n",
    "import matplotlib.pyplot as plt"
   ]
  },
  {
   "cell_type": "code",
   "execution_count": 2,
   "metadata": {
    "execution": {
     "iopub.execute_input": "2024-07-22T20:38:36.068917Z",
     "iopub.status.busy": "2024-07-22T20:38:36.068763Z",
     "iopub.status.idle": "2024-07-22T20:38:36.070676Z",
     "shell.execute_reply": "2024-07-22T20:38:36.070413Z"
    }
   },
   "outputs": [],
   "source": [
    "input_parquet_file_path = '../data/interm/2.2_taxdata.parquet'\n",
    "\n",
    "output_differences_output_file_path = '../data/interm/2.3_differences.csv'\n",
    "output_sample_output_csv_file_path = '../data/interm/2.3_sample.csv'"
   ]
  },
  {
   "cell_type": "markdown",
   "metadata": {},
   "source": [
    "# Validate the differences between the original dataset and the processed one"
   ]
  },
  {
   "cell_type": "code",
   "execution_count": 3,
   "metadata": {
    "execution": {
     "iopub.execute_input": "2024-07-22T20:38:36.072117Z",
     "iopub.status.busy": "2024-07-22T20:38:36.072004Z",
     "iopub.status.idle": "2024-07-22T20:39:36.574578Z",
     "shell.execute_reply": "2024-07-22T20:39:36.573182Z"
    }
   },
   "outputs": [],
   "source": [
    "dataframe = pd.read_parquet(input_parquet_file_path)\n",
    "\n",
    "# Filter the DataFrame for rows where the two INSEE codes differ\n",
    "differences_df = dataframe[(dataframe['code INSEE'] != dataframe['Clean code INSEE']) |\n",
    "                           (dataframe['code INSEE'].isna())]\n",
    "\n",
    "# Select only the relevant columns\n",
    "differences_df = differences_df[['Libellé commune', 'COMMUNE', 'DEPARTEMENT', \n",
    "                                 'DEPARTEMENT_LABEL', 'LIBELLE DEPARTEMENT', \n",
    "                                 'code INSEE', 'Clean code INSEE', 'LABEL']]\n",
    "\n",
    "# Save the filtered DataFrame to CSV\n",
    "differences_df.to_csv(output_differences_output_file_path, index=False)"
   ]
  },
  {
   "cell_type": "code",
   "execution_count": 4,
   "metadata": {
    "execution": {
     "iopub.execute_input": "2024-07-22T20:39:36.592631Z",
     "iopub.status.busy": "2024-07-22T20:39:36.592489Z",
     "iopub.status.idle": "2024-07-22T20:39:36.605960Z",
     "shell.execute_reply": "2024-07-22T20:39:36.605696Z"
    }
   },
   "outputs": [
    {
     "data": {
      "text/html": [
       "<div>\n",
       "<style scoped>\n",
       "    .dataframe tbody tr th:only-of-type {\n",
       "        vertical-align: middle;\n",
       "    }\n",
       "\n",
       "    .dataframe tbody tr th {\n",
       "        vertical-align: top;\n",
       "    }\n",
       "\n",
       "    .dataframe thead th {\n",
       "        text-align: right;\n",
       "    }\n",
       "</style>\n",
       "<table border=\"1\" class=\"dataframe\">\n",
       "  <thead>\n",
       "    <tr style=\"text-align: right;\">\n",
       "      <th></th>\n",
       "      <th>Libellé commune</th>\n",
       "      <th>COMMUNE</th>\n",
       "      <th>DEPARTEMENT</th>\n",
       "      <th>DEPARTEMENT_LABEL</th>\n",
       "      <th>LIBELLE DEPARTEMENT</th>\n",
       "      <th>code INSEE</th>\n",
       "      <th>Clean code INSEE</th>\n",
       "      <th>LABEL</th>\n",
       "    </tr>\n",
       "  </thead>\n",
       "  <tbody>\n",
       "    <tr>\n",
       "      <th>34958</th>\n",
       "      <td>SAINT-BARTHELEMY</td>\n",
       "      <td>7</td>\n",
       "      <td>977</td>\n",
       "      <td>Saint Barthélemy</td>\n",
       "      <td>SAINT-BARTHELEMY</td>\n",
       "      <td>9777</td>\n",
       "      <td>97707</td>\n",
       "      <td>97707 - SAINT-BARTHELEMY - Saint Barthélemy</td>\n",
       "    </tr>\n",
       "    <tr>\n",
       "      <th>34959</th>\n",
       "      <td>SAINT-MARTIN</td>\n",
       "      <td>8</td>\n",
       "      <td>978</td>\n",
       "      <td>Saint Martin</td>\n",
       "      <td>SAINT-MARTIN</td>\n",
       "      <td>9788</td>\n",
       "      <td>97808</td>\n",
       "      <td>97808 - SAINT-MARTIN - Saint Martin</td>\n",
       "    </tr>\n",
       "    <tr>\n",
       "      <th>69927</th>\n",
       "      <td>SAINT-BARTHELEMY</td>\n",
       "      <td>7</td>\n",
       "      <td>977</td>\n",
       "      <td>Saint Barthélemy</td>\n",
       "      <td>SAINT-BARTHELEMY</td>\n",
       "      <td>9777</td>\n",
       "      <td>97707</td>\n",
       "      <td>97707 - SAINT-BARTHELEMY - Saint Barthélemy</td>\n",
       "    </tr>\n",
       "    <tr>\n",
       "      <th>69928</th>\n",
       "      <td>SAINT-MARTIN</td>\n",
       "      <td>8</td>\n",
       "      <td>978</td>\n",
       "      <td>Saint Martin</td>\n",
       "      <td>SAINT-MARTIN</td>\n",
       "      <td>9788</td>\n",
       "      <td>97808</td>\n",
       "      <td>97808 - SAINT-MARTIN - Saint Martin</td>\n",
       "    </tr>\n",
       "    <tr>\n",
       "      <th>69929</th>\n",
       "      <td>ABERGEMENT CLEMENCIAT</td>\n",
       "      <td>1</td>\n",
       "      <td>01</td>\n",
       "      <td>Ain</td>\n",
       "      <td>AIN</td>\n",
       "      <td>&lt;NA&gt;</td>\n",
       "      <td>01001</td>\n",
       "      <td>01001 - ABERGEMENT CLEMENCIAT - Ain</td>\n",
       "    </tr>\n",
       "  </tbody>\n",
       "</table>\n",
       "</div>"
      ],
      "text/plain": [
       "             Libellé commune  COMMUNE DEPARTEMENT DEPARTEMENT_LABEL  \\\n",
       "34958       SAINT-BARTHELEMY        7         977  Saint Barthélemy   \n",
       "34959           SAINT-MARTIN        8         978      Saint Martin   \n",
       "69927       SAINT-BARTHELEMY        7         977  Saint Barthélemy   \n",
       "69928           SAINT-MARTIN        8         978      Saint Martin   \n",
       "69929  ABERGEMENT CLEMENCIAT        1          01               Ain   \n",
       "\n",
       "      LIBELLE DEPARTEMENT code INSEE Clean code INSEE  \\\n",
       "34958    SAINT-BARTHELEMY       9777            97707   \n",
       "34959        SAINT-MARTIN       9788            97808   \n",
       "69927    SAINT-BARTHELEMY       9777            97707   \n",
       "69928        SAINT-MARTIN       9788            97808   \n",
       "69929                 AIN       <NA>            01001   \n",
       "\n",
       "                                             LABEL  \n",
       "34958  97707 - SAINT-BARTHELEMY - Saint Barthélemy  \n",
       "34959          97808 - SAINT-MARTIN - Saint Martin  \n",
       "69927  97707 - SAINT-BARTHELEMY - Saint Barthélemy  \n",
       "69928          97808 - SAINT-MARTIN - Saint Martin  \n",
       "69929          01001 - ABERGEMENT CLEMENCIAT - Ain  "
      ]
     },
     "execution_count": 4,
     "metadata": {},
     "output_type": "execute_result"
    }
   ],
   "source": [
    "differences_df.head()"
   ]
  },
  {
   "cell_type": "code",
   "execution_count": 5,
   "metadata": {
    "execution": {
     "iopub.execute_input": "2024-07-22T20:39:36.620032Z",
     "iopub.status.busy": "2024-07-22T20:39:36.619888Z",
     "iopub.status.idle": "2024-07-22T20:39:36.746432Z",
     "shell.execute_reply": "2024-07-22T20:39:36.746134Z"
    }
   },
   "outputs": [
    {
     "name": "stdout",
     "output_type": "stream",
     "text": [
      "Total Differences: 223619\n"
     ]
    },
    {
     "data": {
      "image/png": "[encoded data removed]",
      "text/plain": [
       "<Figure size 800x800 with 1 Axes>"
      ]
     },
     "metadata": {},
     "output_type": "display_data"
    }
   ],
   "source": [
    "# Calculate the number of differences\n",
    "total_entries = len(dataframe)  # Assuming 'dataframe' is the original DataFrame\n",
    "updated_codes = len(differences_df)\n",
    "\n",
    "total_differences = len(differences_df)\n",
    "print(f\"Total Differences: {total_differences}\")\n",
    "\n",
    "# Data for the pie chart\n",
    "labels = ['Total Data Entries', 'Updated code INSEE Entries']\n",
    "sizes = [total_entries, updated_codes]\n",
    "colors = ['skyblue', 'lightcoral']\n",
    "explode = (0, 0.1)  # explode the 2nd slice\n",
    "\n",
    "# Create a pie chart\n",
    "plt.figure(figsize=(8, 8))\n",
    "plt.pie(sizes, explode=explode, labels=labels, colors=colors,\n",
    "        autopct='%1.1f%%', shadow=True, startangle=140)\n",
    "\n",
    "plt.title('Proportion of Updated code INSEE Entries')\n",
    "plt.show()"
   ]
  },
  {
   "cell_type": "code",
   "execution_count": 6,
   "metadata": {
    "execution": {
     "iopub.execute_input": "2024-07-22T20:39:36.749410Z",
     "iopub.status.busy": "2024-07-22T20:39:36.749290Z",
     "iopub.status.idle": "2024-07-22T20:40:08.941447Z",
     "shell.execute_reply": "2024-07-22T20:40:08.941122Z"
    }
   },
   "outputs": [
    {
     "data": {
      "text/plain": [
       "0"
      ]
     },
     "execution_count": 6,
     "metadata": {},
     "output_type": "execute_result"
    }
   ],
   "source": [
    "# Take a random sample of the DataFrame\n",
    "sample = dataframe.sample(n=1000, random_state=42)  \n",
    "\n",
    "# Save the sampled to a new CSV file\n",
    "sample.to_csv(output_sample_output_csv_file_path)\n",
    "\n",
    "del sample\n",
    "del dataframe\n",
    "del differences_df\n",
    "gc.collect()"
   ]
  }
 ],
 "metadata": {
  "kernelspec": {
   "display_name": "myenv",
   "language": "python",
   "name": "python3"
  },
  "language_info": {
   "codemirror_mode": {
    "name": "ipython",
    "version": 3
   },
   "file_extension": ".py",
   "mimetype": "text/x-python",
   "name": "python",
   "nbconvert_exporter": "python",
   "pygments_lexer": "ipython3",
   "version": "3.9.18"
  }
 },
 "nbformat": 4,
 "nbformat_minor": 2
}
