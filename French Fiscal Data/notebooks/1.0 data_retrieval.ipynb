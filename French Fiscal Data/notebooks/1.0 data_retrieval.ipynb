{
 "cells": [
  {
   "cell_type": "code",
   "execution_count": 1,
   "metadata": {
    "execution": {
     "iopub.execute_input": "2024-07-22T19:52:04.513144Z",
     "iopub.status.busy": "2024-07-22T19:52:04.513022Z",
     "iopub.status.idle": "2024-07-22T19:52:04.519298Z",
     "shell.execute_reply": "2024-07-22T19:52:04.519027Z"
    }
   },
   "outputs": [],
   "source": [
    "import os\n",
    "import sys\n",
    "from dotenv import load_dotenv"
   ]
  },
  {
   "cell_type": "markdown",
   "metadata": {},
   "source": [
    "# Download the dataset from the S3 bucket and store it locally"
   ]
  },
  {
   "cell_type": "code",
   "execution_count": 2,
   "metadata": {
    "execution": {
     "iopub.execute_input": "2024-07-22T19:52:04.520900Z",
     "iopub.status.busy": "2024-07-22T19:52:04.520789Z",
     "iopub.status.idle": "2024-07-22T19:52:04.522752Z",
     "shell.execute_reply": "2024-07-22T19:52:04.522407Z"
    }
   },
   "outputs": [],
   "source": [
    "s3_uri = 's3://oceandatachallengebucket/public/francetax.parquet'\n",
    "\n",
    "output_parquet_file_path = '../data/interm/1.0_taxdata.parquet'"
   ]
  },
  {
   "cell_type": "code",
   "execution_count": 3,
   "metadata": {
    "execution": {
     "iopub.execute_input": "2024-07-22T19:52:04.524513Z",
     "iopub.status.busy": "2024-07-22T19:52:04.524384Z",
     "iopub.status.idle": "2024-07-22T19:52:05.056636Z",
     "shell.execute_reply": "2024-07-22T19:52:05.056220Z"
    }
   },
   "outputs": [],
   "source": [
    "notebook_dir = os.path.dirname(os.path.abspath('fiscal_processing.ipynb'))\n",
    "project_root = os.path.abspath(os.path.join(notebook_dir, '..'))\n",
    "\n",
    "if project_root not in sys.path:\n",
    "    sys.path.append(project_root)\n",
    "    \n",
    "# Load environment variables from the .env file\n",
    "load_dotenv()\n",
    "\n",
    "from datasharing.datasharing import DataSharingClient"
   ]
  },
  {
   "cell_type": "code",
   "execution_count": 4,
   "metadata": {
    "execution": {
     "iopub.execute_input": "2024-07-22T19:52:05.058529Z",
     "iopub.status.busy": "2024-07-22T19:52:05.058338Z",
     "iopub.status.idle": "2024-07-22T19:53:30.860208Z",
     "shell.execute_reply": "2024-07-22T19:53:30.859871Z"
    }
   },
   "outputs": [
    {
     "name": "stdout",
     "output_type": "stream",
     "text": [
      "It's data time!\n",
      "You can query datasets in the \"eu-central-1\" region\n"
     ]
    },
    {
     "name": "stdout",
     "output_type": "stream",
     "text": [
      "Downloaded s3://oceandatachallengebucket/public/francetax.parquet to ../data/interm/1.0_taxdata.parquet\n"
     ]
    }
   ],
   "source": [
    "client = DataSharingClient(duckdb_region='eu-central-1') \n",
    "\n",
    "# Download the dataset\n",
    "client.download_dataset(s3_uri, output_parquet_file_path)"
   ]
  }
 ],
 "metadata": {
  "kernelspec": {
   "display_name": ".venv",
   "language": "python",
   "name": "python3"
  },
  "language_info": {
   "codemirror_mode": {
    "name": "ipython",
    "version": 3
   },
   "file_extension": ".py",
   "mimetype": "text/x-python",
   "name": "python",
   "nbconvert_exporter": "python",
   "pygments_lexer": "ipython3",
   "version": "3.9.18"
  }
 },
 "nbformat": 4,
 "nbformat_minor": 2
}
