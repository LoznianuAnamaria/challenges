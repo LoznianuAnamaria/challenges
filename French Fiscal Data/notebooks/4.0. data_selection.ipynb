{
 "cells": [
  {
   "cell_type": "code",
   "execution_count": 1,
   "metadata": {
    "execution": {
     "iopub.execute_input": "2024-07-22T20:40:16.066109Z",
     "iopub.status.busy": "2024-07-22T20:40:16.065808Z",
     "iopub.status.idle": "2024-07-22T20:40:18.124883Z",
     "shell.execute_reply": "2024-07-22T20:40:18.124038Z"
    }
   },
   "outputs": [
    {
     "name": "stdout",
     "output_type": "stream",
     "text": [
      "Looking in indexes: https://pypi.org/simple, https://pypi.ngc.nvidia.com\r\n",
      "Requirement already satisfied: pandas in /Users/ana/Documents/Ocean/DataSharing/myenv/lib/python3.9/site-packages (2.2.2)\r\n",
      "Requirement already satisfied: pytz>=2020.1 in /Users/ana/Documents/Ocean/DataSharing/myenv/lib/python3.9/site-packages (from pandas) (2024.1)\r\n",
      "Requirement already satisfied: tzdata>=2022.7 in /Users/ana/Documents/Ocean/DataSharing/myenv/lib/python3.9/site-packages (from pandas) (2024.1)\r\n",
      "Requirement already satisfied: numpy>=1.22.4 in /Users/ana/Documents/Ocean/DataSharing/myenv/lib/python3.9/site-packages (from pandas) (1.26.4)\r\n",
      "Requirement already satisfied: python-dateutil>=2.8.2 in /Users/ana/Documents/Ocean/DataSharing/myenv/lib/python3.9/site-packages (from pandas) (2.9.0.post0)\r\n",
      "Requirement already satisfied: six>=1.5 in /Users/ana/Documents/Ocean/DataSharing/myenv/lib/python3.9/site-packages (from python-dateutil>=2.8.2->pandas) (1.16.0)\r\n"
     ]
    },
    {
     "name": "stdout",
     "output_type": "stream",
     "text": [
      "\r\n",
      "\u001b[1m[\u001b[0m\u001b[34;49mnotice\u001b[0m\u001b[1;39;49m]\u001b[0m\u001b[39;49m A new release of pip is available: \u001b[0m\u001b[31;49m23.0.1\u001b[0m\u001b[39;49m -> \u001b[0m\u001b[32;49m24.1.2\u001b[0m\r\n",
      "\u001b[1m[\u001b[0m\u001b[34;49mnotice\u001b[0m\u001b[1;39;49m]\u001b[0m\u001b[39;49m To update, run: \u001b[0m\u001b[32;49mpip install --upgrade pip\u001b[0m\r\n"
     ]
    },
    {
     "name": "stdout",
     "output_type": "stream",
     "text": [
      "Note: you may need to restart the kernel to use updated packages.\n"
     ]
    }
   ],
   "source": [
    "%pip install pandas\n",
    "\n",
    "import gc\n",
    "from enum import Enum\n",
    "import pandas as pd"
   ]
  },
  {
   "cell_type": "code",
   "execution_count": 2,
   "metadata": {
    "execution": {
     "iopub.execute_input": "2024-07-22T20:40:18.130108Z",
     "iopub.status.busy": "2024-07-22T20:40:18.129715Z",
     "iopub.status.idle": "2024-07-22T20:40:18.135311Z",
     "shell.execute_reply": "2024-07-22T20:40:18.133940Z"
    }
   },
   "outputs": [],
   "source": [
    "input_parquet_file_path = '../data/interm/2.2_taxdata.parquet'\n",
    "input_columns_file_path = '../data/interm/3.0_columns.csv'\n",
    "\n",
    "output_file_path = '../data/interm/4.0_'"
   ]
  },
  {
   "cell_type": "code",
   "execution_count": 3,
   "metadata": {
    "execution": {
     "iopub.execute_input": "2024-07-22T20:40:18.137169Z",
     "iopub.status.busy": "2024-07-22T20:40:18.137055Z",
     "iopub.status.idle": "2024-07-22T20:41:09.257599Z",
     "shell.execute_reply": "2024-07-22T20:41:09.256235Z"
    }
   },
   "outputs": [],
   "source": [
    "class RevenueCollector(Enum):\n",
    "    COMMUNE = \"COMMUNE\"\n",
    "    SYNDICAT = \"SYNDICAT\"\n",
    "    INTERCOMMUNE = \"INTERCOMMUNE\"\n",
    "    DEPARTMENT = \"DEPARTMENT\"\n",
    "    REGION = \"REGION\"\n",
    "    STATE = \"STATE\"\n",
    "    OTHER = \"OTHER\"\n",
    "    MGP = \"MGP\"\n",
    "    UNAVAILABLE=\"UNAVAILABLE\"\n",
    "\n",
    "data_df = pd.read_parquet(input_parquet_file_path)\n",
    "columns_df = pd.read_csv(input_columns_file_path)\n",
    "\n",
    "data_df['ANNEE'] = data_df['ANNEE'].astype(str)\n",
    "data_df['ANNEE'] = pd.to_datetime(data_df['ANNEE']).dt.year"
   ]
  },
  {
   "cell_type": "code",
   "execution_count": 4,
   "metadata": {
    "execution": {
     "iopub.execute_input": "2024-07-22T20:41:09.273985Z",
     "iopub.status.busy": "2024-07-22T20:41:09.273843Z",
     "iopub.status.idle": "2024-07-22T20:41:09.278637Z",
     "shell.execute_reply": "2024-07-22T20:41:09.278380Z"
    }
   },
   "outputs": [],
   "source": [
    "code_insee = 'Clean code INSEE'\n",
    "identifiers = ['code INSEE', 'LABEL', 'DEPARTEMENT_LABEL', 'DEPARTEMENT', 'COMMUNE', 'ANNEE', 'POPULATION TOTALE (MUNICIPALE ET COMPTEE A PART)  - Source saisies application FDL']\n",
    "\n",
    "\n",
    "# Define the conversion factor. Before 2002 France was using the franch franc. \n",
    "# https://www.ecb.europa.eu/euro/exchange/fr/html/index.en.html\n",
    "conversion_factor = 6.55957"
   ]
  },
  {
   "cell_type": "markdown",
   "metadata": {},
   "source": [
    "# Apply the conversion rate franc to euro and save the results"
   ]
  },
  {
   "cell_type": "code",
   "execution_count": 5,
   "metadata": {
    "execution": {
     "iopub.execute_input": "2024-07-22T20:41:09.280604Z",
     "iopub.status.busy": "2024-07-22T20:41:09.280491Z",
     "iopub.status.idle": "2024-07-22T20:41:35.468100Z",
     "shell.execute_reply": "2024-07-22T20:41:35.467617Z"
    }
   },
   "outputs": [],
   "source": [
    "to_save_data_types = [RevenueCollector.COMMUNE.value,\n",
    "                      RevenueCollector.SYNDICAT.value,\n",
    "                      RevenueCollector.INTERCOMMUNE.value,\n",
    "                      RevenueCollector.DEPARTMENT.value,\n",
    "                      RevenueCollector.REGION.value, \n",
    "                      RevenueCollector.STATE.value, \n",
    "                      RevenueCollector.MGP.value]\n",
    "\n",
    "for data_type in to_save_data_types: \n",
    "    # Create a mask to filter columns for COMMUNE revenue\n",
    "    tax_mask = columns_df['REVENUE_COLLECTOR'] == data_type\n",
    "    tax_columns = columns_df[columns_df['REVENUE_COLLECTOR'] == data_type]['TITRE'].values\n",
    "\n",
    "    # Make sure the data in the tax columns is numeric\n",
    "    data_df[tax_columns] = data_df[tax_columns].apply(pd.to_numeric, errors='coerce').fillna(0)\n",
    "\n",
    "    # Select all the columns we need from the dataset\n",
    "    columns = identifiers + [code_insee] + list(tax_columns)\n",
    "\n",
    "    # Select the necessary columns\n",
    "    tax_revenue_df = data_df[columns]\n",
    "\n",
    "    # Identify rows where the year is before 2002\n",
    "    # Apply the euro-franc coversion to the tax columns for those rows: https://en.wikipedia.org/wiki/French_franc#:~:text=of%20the%20Euro.-,Economic%20and%20Monetary%20Union,January%20and%201%20March%202002.\n",
    "    year_mask = tax_revenue_df['ANNEE'] < 2002\n",
    "    for col in tax_columns:\n",
    "        tax_revenue_df.loc[year_mask & (tax_revenue_df[col] != 0), col] = tax_revenue_df.loc[year_mask & (tax_revenue_df[col] != 0), col] / conversion_factor\n",
    "\n",
    "    # Save the selection of columns to a new parquet file\n",
    "    tax_revenue_df.to_parquet(output_file_path + data_type.lower() + '.parquet')\n",
    "\n",
    "    # Uncomment this to save a sample of each file\n",
    "    sample = tax_revenue_df.sample(n=1000, random_state=42)  \n",
    "    sample.to_csv(output_file_path + data_type.lower() + '_sample.csv')"
   ]
  },
  {
   "cell_type": "code",
   "execution_count": 6,
   "metadata": {
    "execution": {
     "iopub.execute_input": "2024-07-22T20:41:35.471664Z",
     "iopub.status.busy": "2024-07-22T20:41:35.471525Z",
     "iopub.status.idle": "2024-07-22T20:41:46.333695Z",
     "shell.execute_reply": "2024-07-22T20:41:46.333420Z"
    }
   },
   "outputs": [
    {
     "data": {
      "text/plain": [
       "0"
      ]
     },
     "execution_count": 6,
     "metadata": {},
     "output_type": "execute_result"
    }
   ],
   "source": [
    "del data_df\n",
    "del columns_df\n",
    "\n",
    "gc.collect()"
   ]
  }
 ],
 "metadata": {
  "kernelspec": {
   "display_name": "myenv",
   "language": "python",
   "name": "python3"
  },
  "language_info": {
   "codemirror_mode": {
    "name": "ipython",
    "version": 3
   },
   "file_extension": ".py",
   "mimetype": "text/x-python",
   "name": "python",
   "nbconvert_exporter": "python",
   "pygments_lexer": "ipython3",
   "version": "3.9.18"
  }
 },
 "nbformat": 4,
 "nbformat_minor": 2
}
